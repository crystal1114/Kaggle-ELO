{
 "cells": [
  {
   "cell_type": "code",
   "execution_count": 1,
   "metadata": {},
   "outputs": [],
   "source": [
    "import numpy as np #linear algebra\n",
    "import pandas as pd #data processing, CSV file I/O (e.g. pd.read_csv)\n",
    "import datetime"
   ]
  },
  {
   "cell_type": "code",
   "execution_count": 2,
   "metadata": {},
   "outputs": [],
   "source": [
    "import time"
   ]
  },
  {
   "cell_type": "code",
   "execution_count": 3,
   "metadata": {},
   "outputs": [
    {
     "name": "stderr",
     "output_type": "stream",
     "text": [
      "/Users/shutingchen/anaconda3/lib/python3.7/site-packages/lightgbm/__init__.py:46: UserWarning: Starting from version 2.2.1, the library file in distribution wheels for macOS is built by the Apple Clang (Xcode_9.4.1) compiler.\n",
      "This means that in case of installing LightGBM from PyPI via the ``pip install lightgbm`` command, you don't need to install the gcc compiler anymore.\n",
      "Instead of that, you need to install the OpenMP library, which is required for running LightGBM on the system with the Apple Clang compiler.\n",
      "You can install the OpenMP library by the following command: ``brew install libomp``.\n",
      "  \"You can install the OpenMP library by the following command: ``brew install libomp``.\", UserWarning)\n"
     ]
    }
   ],
   "source": [
    "from sklearn.model_selection import StratifiedKFold\n",
    "from sklearn.model_selection import KFold\n",
    "from sklearn.metrics import mean_squared_error\n",
    "from sklearn.metrics import log_loss\n",
    "from sklearn.metrics import confusion_matrix\n",
    "import lightgbm as lgb\n",
    "import seaborn as sns\n",
    "import matplotlib as mpl\n",
    "import matplotlib.pyplot as plt\n",
    "from sklearn.preprocessing import MinMaxScaler\n",
    "from sklearn.metrics import mean_squared_error\n",
    "from sklearn.model_selection import train_test_split\n",
    "from sklearn.metrics import classification_report\n",
    "from sklearn.metrics import confusion_matrix\n",
    "from sklearn.metrics import accuracy_score\n",
    "from pandas import get_dummies\n"
   ]
  },
  {
   "cell_type": "code",
   "execution_count": 96,
   "metadata": {},
   "outputs": [],
   "source": [
    "train = pd.read_csv('dataset/all/input/train.csv')"
   ]
  },
  {
   "cell_type": "code",
   "execution_count": 2,
   "metadata": {},
   "outputs": [],
   "source": [
    "test = pd.read_csv('dataset/all/input/test.csv')"
   ]
  },
  {
   "cell_type": "code",
   "execution_count": 3,
   "metadata": {},
   "outputs": [
    {
     "data": {
      "text/plain": [
       "(123623, 5)"
      ]
     },
     "execution_count": 3,
     "metadata": {},
     "output_type": "execute_result"
    }
   ],
   "source": [
    "test.shape"
   ]
  },
  {
   "cell_type": "code",
   "execution_count": 98,
   "metadata": {},
   "outputs": [
    {
     "data": {
      "text/html": [
       "<div>\n",
       "<style scoped>\n",
       "    .dataframe tbody tr th:only-of-type {\n",
       "        vertical-align: middle;\n",
       "    }\n",
       "\n",
       "    .dataframe tbody tr th {\n",
       "        vertical-align: top;\n",
       "    }\n",
       "\n",
       "    .dataframe thead th {\n",
       "        text-align: right;\n",
       "    }\n",
       "</style>\n",
       "<table border=\"1\" class=\"dataframe\">\n",
       "  <thead>\n",
       "    <tr style=\"text-align: right;\">\n",
       "      <th></th>\n",
       "      <th>train.csv</th>\n",
       "      <th>Unnamed: 1</th>\n",
       "    </tr>\n",
       "  </thead>\n",
       "  <tbody>\n",
       "    <tr>\n",
       "      <th>0</th>\n",
       "      <td>NaN</td>\n",
       "      <td>NaN</td>\n",
       "    </tr>\n",
       "    <tr>\n",
       "      <th>1</th>\n",
       "      <td>Columns</td>\n",
       "      <td>Description</td>\n",
       "    </tr>\n",
       "    <tr>\n",
       "      <th>2</th>\n",
       "      <td>card_id</td>\n",
       "      <td>Unique card identifier</td>\n",
       "    </tr>\n",
       "    <tr>\n",
       "      <th>3</th>\n",
       "      <td>first_active_month</td>\n",
       "      <td>'YYYY-MM', month of first purchase</td>\n",
       "    </tr>\n",
       "    <tr>\n",
       "      <th>4</th>\n",
       "      <td>feature_1</td>\n",
       "      <td>Anonymized card categorical feature</td>\n",
       "    </tr>\n",
       "    <tr>\n",
       "      <th>5</th>\n",
       "      <td>feature_2</td>\n",
       "      <td>Anonymized card categorical feature</td>\n",
       "    </tr>\n",
       "    <tr>\n",
       "      <th>6</th>\n",
       "      <td>feature_3</td>\n",
       "      <td>Anonymized card categorical feature</td>\n",
       "    </tr>\n",
       "    <tr>\n",
       "      <th>7</th>\n",
       "      <td>target</td>\n",
       "      <td>Loyalty numerical score calculated 2 months af...</td>\n",
       "    </tr>\n",
       "  </tbody>\n",
       "</table>\n",
       "</div>"
      ],
      "text/plain": [
       "            train.csv                                         Unnamed: 1\n",
       "0                 NaN                                                NaN\n",
       "1             Columns                                        Description\n",
       "2             card_id                             Unique card identifier\n",
       "3  first_active_month                 'YYYY-MM', month of first purchase\n",
       "4           feature_1                Anonymized card categorical feature\n",
       "5           feature_2                Anonymized card categorical feature\n",
       "6           feature_3                Anonymized card categorical feature\n",
       "7              target  Loyalty numerical score calculated 2 months af..."
      ]
     },
     "execution_count": 98,
     "metadata": {},
     "output_type": "execute_result"
    }
   ],
   "source": [
    "data_dict = pd.read_excel('dataset/all/input/Data_Dictionary.xlsx',sheet_name = 'train')\n",
    "data_dict"
   ]
  },
  {
   "cell_type": "code",
   "execution_count": 99,
   "metadata": {},
   "outputs": [
    {
     "data": {
      "text/html": [
       "<div>\n",
       "<style scoped>\n",
       "    .dataframe tbody tr th:only-of-type {\n",
       "        vertical-align: middle;\n",
       "    }\n",
       "\n",
       "    .dataframe tbody tr th {\n",
       "        vertical-align: top;\n",
       "    }\n",
       "\n",
       "    .dataframe thead th {\n",
       "        text-align: right;\n",
       "    }\n",
       "</style>\n",
       "<table border=\"1\" class=\"dataframe\">\n",
       "  <thead>\n",
       "    <tr style=\"text-align: right;\">\n",
       "      <th></th>\n",
       "      <th>first_active_month</th>\n",
       "      <th>card_id</th>\n",
       "      <th>feature_1</th>\n",
       "      <th>feature_2</th>\n",
       "      <th>feature_3</th>\n",
       "      <th>target</th>\n",
       "    </tr>\n",
       "  </thead>\n",
       "  <tbody>\n",
       "    <tr>\n",
       "      <th>0</th>\n",
       "      <td>2017-06</td>\n",
       "      <td>C_ID_92a2005557</td>\n",
       "      <td>5</td>\n",
       "      <td>2</td>\n",
       "      <td>1</td>\n",
       "      <td>-0.820283</td>\n",
       "    </tr>\n",
       "    <tr>\n",
       "      <th>1</th>\n",
       "      <td>2017-01</td>\n",
       "      <td>C_ID_3d0044924f</td>\n",
       "      <td>4</td>\n",
       "      <td>1</td>\n",
       "      <td>0</td>\n",
       "      <td>0.392913</td>\n",
       "    </tr>\n",
       "    <tr>\n",
       "      <th>2</th>\n",
       "      <td>2016-08</td>\n",
       "      <td>C_ID_d639edf6cd</td>\n",
       "      <td>2</td>\n",
       "      <td>2</td>\n",
       "      <td>0</td>\n",
       "      <td>0.688056</td>\n",
       "    </tr>\n",
       "    <tr>\n",
       "      <th>3</th>\n",
       "      <td>2017-09</td>\n",
       "      <td>C_ID_186d6a6901</td>\n",
       "      <td>4</td>\n",
       "      <td>3</td>\n",
       "      <td>0</td>\n",
       "      <td>0.142495</td>\n",
       "    </tr>\n",
       "    <tr>\n",
       "      <th>4</th>\n",
       "      <td>2017-11</td>\n",
       "      <td>C_ID_cdbd2c0db2</td>\n",
       "      <td>1</td>\n",
       "      <td>3</td>\n",
       "      <td>0</td>\n",
       "      <td>-0.159749</td>\n",
       "    </tr>\n",
       "  </tbody>\n",
       "</table>\n",
       "</div>"
      ],
      "text/plain": [
       "  first_active_month          card_id  feature_1  feature_2  feature_3  \\\n",
       "0            2017-06  C_ID_92a2005557          5          2          1   \n",
       "1            2017-01  C_ID_3d0044924f          4          1          0   \n",
       "2            2016-08  C_ID_d639edf6cd          2          2          0   \n",
       "3            2017-09  C_ID_186d6a6901          4          3          0   \n",
       "4            2017-11  C_ID_cdbd2c0db2          1          3          0   \n",
       "\n",
       "     target  \n",
       "0 -0.820283  \n",
       "1  0.392913  \n",
       "2  0.688056  \n",
       "3  0.142495  \n",
       "4 -0.159749  "
      ]
     },
     "execution_count": 99,
     "metadata": {},
     "output_type": "execute_result"
    }
   ],
   "source": [
    "train.head()"
   ]
  },
  {
   "cell_type": "code",
   "execution_count": 100,
   "metadata": {},
   "outputs": [
    {
     "name": "stdout",
     "output_type": "stream",
     "text": [
      "<class 'pandas.core.frame.DataFrame'>\n",
      "RangeIndex: 201917 entries, 0 to 201916\n",
      "Data columns (total 6 columns):\n",
      "first_active_month    201917 non-null object\n",
      "card_id               201917 non-null object\n",
      "feature_1             201917 non-null int64\n",
      "feature_2             201917 non-null int64\n",
      "feature_3             201917 non-null int64\n",
      "target                201917 non-null float64\n",
      "dtypes: float64(1), int64(3), object(2)\n",
      "memory usage: 9.2+ MB\n"
     ]
    }
   ],
   "source": [
    "train.info()"
   ]
  },
  {
   "cell_type": "code",
   "execution_count": 101,
   "metadata": {},
   "outputs": [
    {
     "data": {
      "text/plain": [
       "(201917, 6)"
      ]
     },
     "execution_count": 101,
     "metadata": {},
     "output_type": "execute_result"
    }
   ],
   "source": [
    "train.shape"
   ]
  },
  {
   "cell_type": "code",
   "execution_count": 102,
   "metadata": {},
   "outputs": [
    {
     "data": {
      "text/html": [
       "<div>\n",
       "<style scoped>\n",
       "    .dataframe tbody tr th:only-of-type {\n",
       "        vertical-align: middle;\n",
       "    }\n",
       "\n",
       "    .dataframe tbody tr th {\n",
       "        vertical-align: top;\n",
       "    }\n",
       "\n",
       "    .dataframe thead th {\n",
       "        text-align: right;\n",
       "    }\n",
       "</style>\n",
       "<table border=\"1\" class=\"dataframe\">\n",
       "  <thead>\n",
       "    <tr style=\"text-align: right;\">\n",
       "      <th></th>\n",
       "      <th>feature_1</th>\n",
       "      <th>feature_2</th>\n",
       "      <th>feature_3</th>\n",
       "      <th>target</th>\n",
       "    </tr>\n",
       "  </thead>\n",
       "  <tbody>\n",
       "    <tr>\n",
       "      <th>count</th>\n",
       "      <td>201917.000000</td>\n",
       "      <td>201917.000000</td>\n",
       "      <td>201917.000000</td>\n",
       "      <td>201917.000000</td>\n",
       "    </tr>\n",
       "    <tr>\n",
       "      <th>mean</th>\n",
       "      <td>3.105311</td>\n",
       "      <td>1.745410</td>\n",
       "      <td>0.565569</td>\n",
       "      <td>-0.393636</td>\n",
       "    </tr>\n",
       "    <tr>\n",
       "      <th>std</th>\n",
       "      <td>1.186160</td>\n",
       "      <td>0.751362</td>\n",
       "      <td>0.495683</td>\n",
       "      <td>3.850500</td>\n",
       "    </tr>\n",
       "    <tr>\n",
       "      <th>min</th>\n",
       "      <td>1.000000</td>\n",
       "      <td>1.000000</td>\n",
       "      <td>0.000000</td>\n",
       "      <td>-33.219281</td>\n",
       "    </tr>\n",
       "    <tr>\n",
       "      <th>25%</th>\n",
       "      <td>2.000000</td>\n",
       "      <td>1.000000</td>\n",
       "      <td>0.000000</td>\n",
       "      <td>-0.883110</td>\n",
       "    </tr>\n",
       "    <tr>\n",
       "      <th>50%</th>\n",
       "      <td>3.000000</td>\n",
       "      <td>2.000000</td>\n",
       "      <td>1.000000</td>\n",
       "      <td>-0.023437</td>\n",
       "    </tr>\n",
       "    <tr>\n",
       "      <th>75%</th>\n",
       "      <td>4.000000</td>\n",
       "      <td>2.000000</td>\n",
       "      <td>1.000000</td>\n",
       "      <td>0.765453</td>\n",
       "    </tr>\n",
       "    <tr>\n",
       "      <th>max</th>\n",
       "      <td>5.000000</td>\n",
       "      <td>3.000000</td>\n",
       "      <td>1.000000</td>\n",
       "      <td>17.965068</td>\n",
       "    </tr>\n",
       "  </tbody>\n",
       "</table>\n",
       "</div>"
      ],
      "text/plain": [
       "           feature_1      feature_2      feature_3         target\n",
       "count  201917.000000  201917.000000  201917.000000  201917.000000\n",
       "mean        3.105311       1.745410       0.565569      -0.393636\n",
       "std         1.186160       0.751362       0.495683       3.850500\n",
       "min         1.000000       1.000000       0.000000     -33.219281\n",
       "25%         2.000000       1.000000       0.000000      -0.883110\n",
       "50%         3.000000       2.000000       1.000000      -0.023437\n",
       "75%         4.000000       2.000000       1.000000       0.765453\n",
       "max         5.000000       3.000000       1.000000      17.965068"
      ]
     },
     "execution_count": 102,
     "metadata": {},
     "output_type": "execute_result"
    }
   ],
   "source": [
    "train.describe()"
   ]
  },
  {
   "cell_type": "code",
   "execution_count": 103,
   "metadata": {},
   "outputs": [
    {
     "data": {
      "text/plain": [
       "first_active_month    0\n",
       "card_id               0\n",
       "feature_1             0\n",
       "feature_2             0\n",
       "feature_3             0\n",
       "target                0\n",
       "dtype: int64"
      ]
     },
     "execution_count": 103,
     "metadata": {},
     "output_type": "execute_result"
    }
   ],
   "source": [
    "train.isnull().sum()"
   ]
  },
  {
   "cell_type": "code",
   "execution_count": 105,
   "metadata": {},
   "outputs": [
    {
     "data": {
      "text/plain": [
       "(201917, 6)"
      ]
     },
     "execution_count": 105,
     "metadata": {},
     "output_type": "execute_result"
    }
   ],
   "source": [
    "train = train.dropna()\n",
    "train.shape"
   ]
  },
  {
   "cell_type": "code",
   "execution_count": 106,
   "metadata": {},
   "outputs": [
    {
     "data": {
      "text/plain": [
       "Index(['first_active_month', 'card_id', 'feature_1', 'feature_2', 'feature_3',\n",
       "       'target'],\n",
       "      dtype='object')"
      ]
     },
     "execution_count": 106,
     "metadata": {},
     "output_type": "execute_result"
    }
   ],
   "source": [
    "train.columns"
   ]
  },
  {
   "cell_type": "code",
   "execution_count": 109,
   "metadata": {},
   "outputs": [
    {
     "data": {
      "text/plain": [
       "array([-33.21928095, -17.60814651, -17.49263951, ...,  15.99445509,\n",
       "        17.67571588,  17.9650684 ])"
      ]
     },
     "execution_count": 109,
     "metadata": {},
     "output_type": "execute_result"
    }
   ],
   "source": [
    "np.unique(train['target'].values)"
   ]
  },
  {
   "cell_type": "code",
   "execution_count": 110,
   "metadata": {},
   "outputs": [
    {
     "data": {
      "text/plain": [
       "first_active_month    117\n",
       "card_id               117\n",
       "feature_1             117\n",
       "feature_2             117\n",
       "feature_3             117\n",
       "target                117\n",
       "dtype: int64"
      ]
     },
     "execution_count": 110,
     "metadata": {},
     "output_type": "execute_result"
    }
   ],
   "source": [
    "train.where(train['target'] == 1).count()"
   ]
  },
  {
   "cell_type": "code",
   "execution_count": 111,
   "metadata": {},
   "outputs": [
    {
     "data": {
      "text/plain": [
       "first_active_month    2207\n",
       "card_id               2207\n",
       "feature_1             2207\n",
       "feature_2             2207\n",
       "feature_3             2207\n",
       "target                2207\n",
       "dtype: int64"
      ]
     },
     "execution_count": 111,
     "metadata": {},
     "output_type": "execute_result"
    }
   ],
   "source": [
    "train[train['target'] < -32].count()"
   ]
  },
  {
   "cell_type": "code",
   "execution_count": 113,
   "metadata": {},
   "outputs": [
    {
     "data": {
      "text/plain": [
       "array([1, 0])"
      ]
     },
     "execution_count": 113,
     "metadata": {},
     "output_type": "execute_result"
    }
   ],
   "source": [
    "train.feature_1.unique()"
   ]
  },
  {
   "cell_type": "code",
   "execution_count": 114,
   "metadata": {},
   "outputs": [
    {
     "data": {
      "text/plain": [
       "array([2, 1, 3])"
      ]
     },
     "execution_count": 114,
     "metadata": {},
     "output_type": "execute_result"
    }
   ],
   "source": [
    "train.feature_2.unique()"
   ]
  },
  {
   "cell_type": "code",
   "execution_count": 115,
   "metadata": {},
   "outputs": [
    {
     "data": {
      "text/plain": [
       "array([1, 0])"
      ]
     },
     "execution_count": 115,
     "metadata": {},
     "output_type": "execute_result"
    }
   ],
   "source": [
    "train.feature_3.unique()"
   ]
  },
  {
   "cell_type": "markdown",
   "metadata": {},
   "source": [
    "# Data Visualization"
   ]
  },
  {
   "cell_type": "code",
   "execution_count": 116,
   "metadata": {},
   "outputs": [
    {
     "data": {
      "text/plain": [
       "<matplotlib.axes._subplots.AxesSubplot at 0x13597a278>"
      ]
     },
     "execution_count": 116,
     "metadata": {},
     "output_type": "execute_result"
    },
    {
     "data": {
      "image/png": "[encoded data removed]",
      "text/plain": [
       "<Figure size 432x288 with 1 Axes>"
      ]
     },
     "metadata": {
      "needs_background": "light"
     },
     "output_type": "display_data"
    }
   ],
   "source": [
    "train[\"target\"].hist()"
   ]
  },
  {
   "cell_type": "code",
   "execution_count": 118,
   "metadata": {},
   "outputs": [
    {
     "data": {
      "text/plain": [
       "<Figure size 432x288 with 0 Axes>"
      ]
     },
     "execution_count": 118,
     "metadata": {},
     "output_type": "execute_result"
    },
    {
     "data": {
      "image/png": "[encoded data removed]",
      "text/plain": [
       "<Figure size 1080x1440 with 4 Axes>"
      ]
     },
     "metadata": {
      "needs_background": "light"
     },
     "output_type": "display_data"
    },
    {
     "data": {
      "text/plain": [
       "<Figure size 432x288 with 0 Axes>"
      ]
     },
     "metadata": {},
     "output_type": "display_data"
    }
   ],
   "source": [
    "train.hist(figsize = (15,20))\n",
    "plt.figure()"
   ]
  },
  {
   "cell_type": "code",
   "execution_count": 119,
   "metadata": {},
   "outputs": [
    {
     "data": {
      "image/png": "[encoded data removed]",
      "text/plain": [
       "<Figure size 1440x720 with 2 Axes>"
      ]
     },
     "metadata": {
      "needs_background": "light"
     },
     "output_type": "display_data"
    }
   ],
   "source": [
    "f,ax = plt.subplots(1,2,figsize = (20,10))\n",
    "train[train['feature_3'] == 0].target.plot.hist(ax = ax[0], color = 'red', bins = 20, edgecolor = 'black')\n",
    "ax[0].set_title('feature_3 = 0')\n",
    "x1 = list(range(0,85,5))\n",
    "ax[0].set_xticks(x1)\n",
    "train[train['feature_3'] == 1].target.plot.hist(ax = ax[1], color = 'green', bins = 20, edgecolor = 'black')\n",
    "ax[1].set_title('feature_3 = 1')\n",
    "x2 = list(range(0,85,5))\n",
    "ax[1].set_xticks(x2)\n",
    "plt.show()"
   ]
  },
  {
   "cell_type": "code",
   "execution_count": 120,
   "metadata": {},
   "outputs": [
    {
     "data": {
      "image/png": "[encoded data removed]",
      "text/plain": [
       "<Figure size 1296x576 with 2 Axes>"
      ]
     },
     "metadata": {
      "needs_background": "light"
     },
     "output_type": "display_data"
    }
   ],
   "source": [
    "f,ax = plt.subplots(1,2,figsize = (18,8))\n",
    "train['feature_3'].value_counts().plot.pie(explode = [0,0.1], autopct = '%1.1f%%', ax = ax[0], shadow = True)\n",
    "ax[0].set_title('feature_3')\n",
    "ax[0].set_ylabel('')\n",
    "sns.countplot('feature_3',data = train, ax = ax[1])\n",
    "ax[1].set_title('feature_3')\n",
    "plt.show()"
   ]
  },
  {
   "cell_type": "code",
   "execution_count": 121,
   "metadata": {},
   "outputs": [
    {
     "data": {
      "image/png": "[encoded data removed]",
      "text/plain": [
       "<Figure size 1296x576 with 2 Axes>"
      ]
     },
     "metadata": {
      "needs_background": "light"
     },
     "output_type": "display_data"
    }
   ],
   "source": [
    "f,ax = plt.subplots(1,2,figsize = (18,8))\n",
    "train[['feature_3','feature_2']].groupby(['feature_3']).mean().plot.bar(ax = ax[0])\n",
    "ax[0].set_title('Survived vs feature_2')\n",
    "sns.countplot('feature_3', hue = 'feature_2', data = train, ax = ax[1])\n",
    "ax[1].set_title('feature_3: feature')\n",
    "plt.show()"
   ]
  },
  {
   "cell_type": "code",
   "execution_count": 122,
   "metadata": {},
   "outputs": [
    {
     "data": {
      "text/plain": [
       "<matplotlib.axes._subplots.AxesSubplot at 0x141a1abe0>"
      ]
     },
     "execution_count": 122,
     "metadata": {},
     "output_type": "execute_result"
    },
    {
     "data": {
      "image/png": "[encoded data removed]",
      "text/plain": [
       "<Figure size 432x288 with 1 Axes>"
      ]
     },
     "metadata": {
      "needs_background": "light"
     },
     "output_type": "display_data"
    }
   ],
   "source": [
    "#distplot\n",
    "sns.distplot(train['target'])"
   ]
  },
  {
   "cell_type": "code",
   "execution_count": 123,
   "metadata": {},
   "outputs": [
    {
     "data": {
      "text/plain": [
       "<matplotlib.axes._subplots.AxesSubplot at 0x1404fc588>"
      ]
     },
     "execution_count": 123,
     "metadata": {},
     "output_type": "execute_result"
    },
    {
     "data": {
      "image/png": "[encoded data removed]",
      "text/plain": [
       "<Figure size 432x288 with 1 Axes>"
      ]
     },
     "metadata": {
      "needs_background": "light"
     },
     "output_type": "display_data"
    }
   ],
   "source": [
    "#violinplot\n",
    "sns.violinplot(data = train, x = \n",
    "              \"feature_1\", y = 'target')"
   ]
  },
  {
   "cell_type": "code",
   "execution_count": 125,
   "metadata": {},
   "outputs": [
    {
     "data": {
      "image/png": "[encoded data removed]",
      "text/plain": [
       "<Figure size 703.625x216 with 3 Axes>"
      ]
     },
     "metadata": {
      "needs_background": "light"
     },
     "output_type": "display_data"
    }
   ],
   "source": [
    "#scatter plot\n",
    "#modify the graph above by assigning each species an individual color\n",
    "g = sns.FacetGrid(train ,hue = \"feature_3\", col = \"feature_2\", margin_titles = True,\n",
    "                 palette = {1:\"blue\", 0:\"red\"})\n",
    "g = g.map(plt.scatter, \"first_active_month\", \"target\", edgecolor = \"w\").add_legend();"
   ]
  },
  {
   "cell_type": "code",
   "execution_count": 126,
   "metadata": {},
   "outputs": [
    {
     "data": {
      "image/png": "[encoded data removed]",
      "text/plain": [
       "<Figure size 432x288 with 1 Axes>"
      ]
     },
     "metadata": {
      "needs_background": "light"
     },
     "output_type": "display_data"
    }
   ],
   "source": [
    "#box\n",
    "sns.boxplot(x = \"feature_3\", y = \"feature_2\", data = test)\n",
    "plt.show()"
   ]
  },
  {
   "cell_type": "code",
   "execution_count": 8,
   "metadata": {},
   "outputs": [],
   "source": [
    "def cal_time(x):\n",
    "    if isinstance(x['first_active_month'],str):\n",
    "        d1 = datetime.datetime.strptime(x['first_active_month'],'%Y-%m')\n",
    "        d2 = datetime.datetime.strptime('2019-02','%Y-%m')\n",
    "        delta = d2 - d1\n",
    "    else:\n",
    "        return float('nan')\n",
    "    \n",
    "    return int(delta.days/30)"
   ]
  },
  {
   "cell_type": "code",
   "execution_count": 9,
   "metadata": {},
   "outputs": [],
   "source": [
    "train['time'] = train.apply(cal_time,axis=1)"
   ]
  },
  {
   "cell_type": "code",
   "execution_count": 10,
   "metadata": {},
   "outputs": [
    {
     "data": {
      "text/plain": [
       "0    20\n",
       "1    25\n",
       "2    30\n",
       "3    17\n",
       "4    15\n",
       "Name: time, dtype: int64"
      ]
     },
     "execution_count": 10,
     "metadata": {},
     "output_type": "execute_result"
    }
   ],
   "source": [
    "train['time'].head()"
   ]
  },
  {
   "cell_type": "code",
   "execution_count": 11,
   "metadata": {},
   "outputs": [],
   "source": [
    "test['time'] = test.apply(cal_time,axis=1)"
   ]
  },
  {
   "cell_type": "code",
   "execution_count": 12,
   "metadata": {},
   "outputs": [
    {
     "data": {
      "text/plain": [
       "22.0"
      ]
     },
     "execution_count": 12,
     "metadata": {},
     "output_type": "execute_result"
    }
   ],
   "source": [
    "test['time'].median()"
   ]
  },
  {
   "cell_type": "code",
   "execution_count": 13,
   "metadata": {},
   "outputs": [
    {
     "data": {
      "text/html": [
       "<div>\n",
       "<style scoped>\n",
       "    .dataframe tbody tr th:only-of-type {\n",
       "        vertical-align: middle;\n",
       "    }\n",
       "\n",
       "    .dataframe tbody tr th {\n",
       "        vertical-align: top;\n",
       "    }\n",
       "\n",
       "    .dataframe thead th {\n",
       "        text-align: right;\n",
       "    }\n",
       "</style>\n",
       "<table border=\"1\" class=\"dataframe\">\n",
       "  <thead>\n",
       "    <tr style=\"text-align: right;\">\n",
       "      <th></th>\n",
       "      <th>first_active_month</th>\n",
       "      <th>time</th>\n",
       "    </tr>\n",
       "  </thead>\n",
       "  <tbody>\n",
       "    <tr>\n",
       "      <th>11578</th>\n",
       "      <td>NaN</td>\n",
       "      <td>NaN</td>\n",
       "    </tr>\n",
       "  </tbody>\n",
       "</table>\n",
       "</div>"
      ],
      "text/plain": [
       "      first_active_month  time\n",
       "11578                NaN   NaN"
      ]
     },
     "execution_count": 13,
     "metadata": {},
     "output_type": "execute_result"
    }
   ],
   "source": [
    "null_columns=test.columns[test.isnull().any()]\n",
    "test[test.isnull().any(axis=1)][null_columns]"
   ]
  },
  {
   "cell_type": "code",
   "execution_count": 14,
   "metadata": {
    "scrolled": true
   },
   "outputs": [],
   "source": [
    "test.loc[11578,'time'] = 22"
   ]
  },
  {
   "cell_type": "markdown",
   "metadata": {},
   "source": [
    "# History_merchant_transactions"
   ]
  },
  {
   "cell_type": "code",
   "execution_count": 15,
   "metadata": {},
   "outputs": [],
   "source": [
    "ht = pd.read_csv('dataset/all/input/historical_transactions.csv')"
   ]
  },
  {
   "cell_type": "code",
   "execution_count": 16,
   "metadata": {},
   "outputs": [
    {
     "name": "stdout",
     "output_type": "stream",
     "text": [
      "<class 'pandas.core.frame.DataFrame'>\n",
      "RangeIndex: 29112361 entries, 0 to 29112360\n",
      "Data columns (total 14 columns):\n",
      "authorized_flag         object\n",
      "card_id                 object\n",
      "city_id                 int64\n",
      "category_1              object\n",
      "installments            int64\n",
      "category_3              object\n",
      "merchant_category_id    int64\n",
      "merchant_id             object\n",
      "month_lag               int64\n",
      "purchase_amount         float64\n",
      "purchase_date           object\n",
      "category_2              float64\n",
      "state_id                int64\n",
      "subsector_id            int64\n",
      "dtypes: float64(2), int64(6), object(6)\n",
      "memory usage: 3.0+ GB\n"
     ]
    }
   ],
   "source": [
    "ht.info()"
   ]
  },
  {
   "cell_type": "code",
   "execution_count": 17,
   "metadata": {
    "scrolled": true
   },
   "outputs": [
    {
     "data": {
      "text/plain": [
       "M_ID_00a6ca8a8a    1115097\n",
       "M_ID_e5374dabc0     428619\n",
       "M_ID_9139332ccc     361385\n",
       "M_ID_50f575c681     183894\n",
       "M_ID_fc7d7969c3     177040\n",
       "M_ID_5ba019a379     170935\n",
       "NaN                 138481\n",
       "M_ID_f86439cec0     110341\n",
       "M_ID_1f4773aa76     106476\n",
       "M_ID_86be58d7e0      97259\n",
       "M_ID_98b342c0e3      93394\n",
       "M_ID_d855771cd9      84377\n",
       "M_ID_6f274b9340      81072\n",
       "M_ID_cd2c0b07e9      80179\n",
       "M_ID_57df19bf28      76750\n",
       "M_ID_b9dcf28cb9      75487\n",
       "M_ID_b98db225f5      70384\n",
       "M_ID_445742726b      68499\n",
       "M_ID_2637773dd2      66836\n",
       "M_ID_82a30d9203      65853\n",
       "M_ID_3111c6df35      52427\n",
       "M_ID_940fb4498f      51522\n",
       "M_ID_c03b62d83d      50828\n",
       "M_ID_820c7b73c8      47404\n",
       "M_ID_b5b80addf5      45520\n",
       "M_ID_a9d91682ad      43922\n",
       "M_ID_7c5e93af2f      42122\n",
       "M_ID_48257bb851      41150\n",
       "M_ID_deb43ff012      40878\n",
       "M_ID_1ac6bbc867      39678\n",
       "                    ...   \n",
       "M_ID_0342b6321d          1\n",
       "M_ID_ab70a5da72          1\n",
       "M_ID_7544a2a9f0          1\n",
       "M_ID_3a3a0e2598          1\n",
       "M_ID_e7c535f2f7          1\n",
       "M_ID_478e35e871          1\n",
       "M_ID_77d8614d21          1\n",
       "M_ID_9ef84a322e          1\n",
       "M_ID_cf99a7639a          1\n",
       "M_ID_9a902bd942          1\n",
       "M_ID_1a3e7946b1          1\n",
       "M_ID_4f35085472          1\n",
       "M_ID_9dad19b415          1\n",
       "M_ID_fc3b1f1b4b          1\n",
       "M_ID_e03ba04258          1\n",
       "M_ID_6efe748ceb          1\n",
       "M_ID_4a5964700e          1\n",
       "M_ID_1b6c075c4a          1\n",
       "M_ID_a0b3549e19          1\n",
       "M_ID_baea0d0713          1\n",
       "M_ID_cfea2812fa          1\n",
       "M_ID_9ebcf38878          1\n",
       "M_ID_cb0cf03e30          1\n",
       "M_ID_c3ff0ff9b2          1\n",
       "M_ID_7d911e5906          1\n",
       "M_ID_313fb2dcf9          1\n",
       "M_ID_399c8e2aa6          1\n",
       "M_ID_ca7ab4d94b          1\n",
       "M_ID_650da0b61e          1\n",
       "M_ID_5fd27bfe3a          1\n",
       "Name: merchant_id, Length: 326312, dtype: int64"
      ]
     },
     "execution_count": 17,
     "metadata": {},
     "output_type": "execute_result"
    }
   ],
   "source": [
    "ht.merchant_id.value_counts(dropna=False)"
   ]
  },
  {
   "cell_type": "code",
   "execution_count": 18,
   "metadata": {},
   "outputs": [
    {
     "data": {
      "text/html": [
       "<div>\n",
       "<style scoped>\n",
       "    .dataframe tbody tr th:only-of-type {\n",
       "        vertical-align: middle;\n",
       "    }\n",
       "\n",
       "    .dataframe tbody tr th {\n",
       "        vertical-align: top;\n",
       "    }\n",
       "\n",
       "    .dataframe thead th {\n",
       "        text-align: right;\n",
       "    }\n",
       "</style>\n",
       "<table border=\"1\" class=\"dataframe\">\n",
       "  <thead>\n",
       "    <tr style=\"text-align: right;\">\n",
       "      <th></th>\n",
       "      <th>authorized_flag</th>\n",
       "      <th>card_id</th>\n",
       "      <th>city_id</th>\n",
       "      <th>category_1</th>\n",
       "      <th>installments</th>\n",
       "      <th>category_3</th>\n",
       "      <th>merchant_category_id</th>\n",
       "      <th>merchant_id</th>\n",
       "      <th>month_lag</th>\n",
       "      <th>purchase_amount</th>\n",
       "      <th>purchase_date</th>\n",
       "      <th>category_2</th>\n",
       "      <th>state_id</th>\n",
       "      <th>subsector_id</th>\n",
       "    </tr>\n",
       "  </thead>\n",
       "  <tbody>\n",
       "    <tr>\n",
       "      <th>0</th>\n",
       "      <td>Y</td>\n",
       "      <td>C_ID_4e6213e9bc</td>\n",
       "      <td>88</td>\n",
       "      <td>N</td>\n",
       "      <td>0</td>\n",
       "      <td>A</td>\n",
       "      <td>80</td>\n",
       "      <td>M_ID_e020e9b302</td>\n",
       "      <td>-8</td>\n",
       "      <td>-0.703331</td>\n",
       "      <td>2017-06-25 15:33:07</td>\n",
       "      <td>1.0</td>\n",
       "      <td>16</td>\n",
       "      <td>37</td>\n",
       "    </tr>\n",
       "    <tr>\n",
       "      <th>1</th>\n",
       "      <td>Y</td>\n",
       "      <td>C_ID_4e6213e9bc</td>\n",
       "      <td>88</td>\n",
       "      <td>N</td>\n",
       "      <td>0</td>\n",
       "      <td>A</td>\n",
       "      <td>367</td>\n",
       "      <td>M_ID_86ec983688</td>\n",
       "      <td>-7</td>\n",
       "      <td>-0.733128</td>\n",
       "      <td>2017-07-15 12:10:45</td>\n",
       "      <td>1.0</td>\n",
       "      <td>16</td>\n",
       "      <td>16</td>\n",
       "    </tr>\n",
       "    <tr>\n",
       "      <th>2</th>\n",
       "      <td>Y</td>\n",
       "      <td>C_ID_4e6213e9bc</td>\n",
       "      <td>88</td>\n",
       "      <td>N</td>\n",
       "      <td>0</td>\n",
       "      <td>A</td>\n",
       "      <td>80</td>\n",
       "      <td>M_ID_979ed661fc</td>\n",
       "      <td>-6</td>\n",
       "      <td>-0.720386</td>\n",
       "      <td>2017-08-09 22:04:29</td>\n",
       "      <td>1.0</td>\n",
       "      <td>16</td>\n",
       "      <td>37</td>\n",
       "    </tr>\n",
       "    <tr>\n",
       "      <th>3</th>\n",
       "      <td>Y</td>\n",
       "      <td>C_ID_4e6213e9bc</td>\n",
       "      <td>88</td>\n",
       "      <td>N</td>\n",
       "      <td>0</td>\n",
       "      <td>A</td>\n",
       "      <td>560</td>\n",
       "      <td>M_ID_e6d5ae8ea6</td>\n",
       "      <td>-5</td>\n",
       "      <td>-0.735352</td>\n",
       "      <td>2017-09-02 10:06:26</td>\n",
       "      <td>1.0</td>\n",
       "      <td>16</td>\n",
       "      <td>34</td>\n",
       "    </tr>\n",
       "    <tr>\n",
       "      <th>4</th>\n",
       "      <td>Y</td>\n",
       "      <td>C_ID_4e6213e9bc</td>\n",
       "      <td>88</td>\n",
       "      <td>N</td>\n",
       "      <td>0</td>\n",
       "      <td>A</td>\n",
       "      <td>80</td>\n",
       "      <td>M_ID_e020e9b302</td>\n",
       "      <td>-11</td>\n",
       "      <td>-0.722865</td>\n",
       "      <td>2017-03-10 01:14:19</td>\n",
       "      <td>1.0</td>\n",
       "      <td>16</td>\n",
       "      <td>37</td>\n",
       "    </tr>\n",
       "  </tbody>\n",
       "</table>\n",
       "</div>"
      ],
      "text/plain": [
       "  authorized_flag          card_id  city_id category_1  installments  \\\n",
       "0               Y  C_ID_4e6213e9bc       88          N             0   \n",
       "1               Y  C_ID_4e6213e9bc       88          N             0   \n",
       "2               Y  C_ID_4e6213e9bc       88          N             0   \n",
       "3               Y  C_ID_4e6213e9bc       88          N             0   \n",
       "4               Y  C_ID_4e6213e9bc       88          N             0   \n",
       "\n",
       "  category_3  merchant_category_id      merchant_id  month_lag  \\\n",
       "0          A                    80  M_ID_e020e9b302         -8   \n",
       "1          A                   367  M_ID_86ec983688         -7   \n",
       "2          A                    80  M_ID_979ed661fc         -6   \n",
       "3          A                   560  M_ID_e6d5ae8ea6         -5   \n",
       "4          A                    80  M_ID_e020e9b302        -11   \n",
       "\n",
       "   purchase_amount        purchase_date  category_2  state_id  subsector_id  \n",
       "0        -0.703331  2017-06-25 15:33:07         1.0        16            37  \n",
       "1        -0.733128  2017-07-15 12:10:45         1.0        16            16  \n",
       "2        -0.720386  2017-08-09 22:04:29         1.0        16            37  \n",
       "3        -0.735352  2017-09-02 10:06:26         1.0        16            34  \n",
       "4        -0.722865  2017-03-10 01:14:19         1.0        16            37  "
      ]
     },
     "execution_count": 18,
     "metadata": {},
     "output_type": "execute_result"
    }
   ],
   "source": [
    "ht.head()"
   ]
  },
  {
   "cell_type": "code",
   "execution_count": 19,
   "metadata": {},
   "outputs": [],
   "source": [
    "ht['authorized_flag'] = ht.authorized_flag.map({'Y':1,'N':0})\n",
    "ht['category_1'] = ht.category_1.map({'Y':1,'N':0})\n",
    "ht['category_2'] = ht['category_2'].fillna(0)\n",
    "ht['category_3'] = ht.category_3.map({'A':0,'B':1,'C':2})\n",
    "ht['category_3'] = ht['category_3'].fillna(3)\n",
    "ht = pd.get_dummies(ht,columns = ['category_2','category_3'])"
   ]
  },
  {
   "cell_type": "code",
   "execution_count": 20,
   "metadata": {},
   "outputs": [
    {
     "data": {
      "text/html": [
       "<div>\n",
       "<style scoped>\n",
       "    .dataframe tbody tr th:only-of-type {\n",
       "        vertical-align: middle;\n",
       "    }\n",
       "\n",
       "    .dataframe tbody tr th {\n",
       "        vertical-align: top;\n",
       "    }\n",
       "\n",
       "    .dataframe thead th {\n",
       "        text-align: right;\n",
       "    }\n",
       "</style>\n",
       "<table border=\"1\" class=\"dataframe\">\n",
       "  <thead>\n",
       "    <tr style=\"text-align: right;\">\n",
       "      <th></th>\n",
       "      <th>authorized_flag</th>\n",
       "      <th>card_id</th>\n",
       "      <th>city_id</th>\n",
       "      <th>category_1</th>\n",
       "      <th>installments</th>\n",
       "      <th>merchant_category_id</th>\n",
       "      <th>merchant_id</th>\n",
       "      <th>month_lag</th>\n",
       "      <th>purchase_amount</th>\n",
       "      <th>purchase_date</th>\n",
       "      <th>...</th>\n",
       "      <th>category_2_0.0</th>\n",
       "      <th>category_2_1.0</th>\n",
       "      <th>category_2_2.0</th>\n",
       "      <th>category_2_3.0</th>\n",
       "      <th>category_2_4.0</th>\n",
       "      <th>category_2_5.0</th>\n",
       "      <th>category_3_0.0</th>\n",
       "      <th>category_3_1.0</th>\n",
       "      <th>category_3_2.0</th>\n",
       "      <th>category_3_3.0</th>\n",
       "    </tr>\n",
       "  </thead>\n",
       "  <tbody>\n",
       "    <tr>\n",
       "      <th>0</th>\n",
       "      <td>1</td>\n",
       "      <td>C_ID_4e6213e9bc</td>\n",
       "      <td>88</td>\n",
       "      <td>0</td>\n",
       "      <td>0</td>\n",
       "      <td>80</td>\n",
       "      <td>M_ID_e020e9b302</td>\n",
       "      <td>-8</td>\n",
       "      <td>-0.703331</td>\n",
       "      <td>2017-06-25 15:33:07</td>\n",
       "      <td>...</td>\n",
       "      <td>0</td>\n",
       "      <td>1</td>\n",
       "      <td>0</td>\n",
       "      <td>0</td>\n",
       "      <td>0</td>\n",
       "      <td>0</td>\n",
       "      <td>1</td>\n",
       "      <td>0</td>\n",
       "      <td>0</td>\n",
       "      <td>0</td>\n",
       "    </tr>\n",
       "    <tr>\n",
       "      <th>1</th>\n",
       "      <td>1</td>\n",
       "      <td>C_ID_4e6213e9bc</td>\n",
       "      <td>88</td>\n",
       "      <td>0</td>\n",
       "      <td>0</td>\n",
       "      <td>367</td>\n",
       "      <td>M_ID_86ec983688</td>\n",
       "      <td>-7</td>\n",
       "      <td>-0.733128</td>\n",
       "      <td>2017-07-15 12:10:45</td>\n",
       "      <td>...</td>\n",
       "      <td>0</td>\n",
       "      <td>1</td>\n",
       "      <td>0</td>\n",
       "      <td>0</td>\n",
       "      <td>0</td>\n",
       "      <td>0</td>\n",
       "      <td>1</td>\n",
       "      <td>0</td>\n",
       "      <td>0</td>\n",
       "      <td>0</td>\n",
       "    </tr>\n",
       "    <tr>\n",
       "      <th>2</th>\n",
       "      <td>1</td>\n",
       "      <td>C_ID_4e6213e9bc</td>\n",
       "      <td>88</td>\n",
       "      <td>0</td>\n",
       "      <td>0</td>\n",
       "      <td>80</td>\n",
       "      <td>M_ID_979ed661fc</td>\n",
       "      <td>-6</td>\n",
       "      <td>-0.720386</td>\n",
       "      <td>2017-08-09 22:04:29</td>\n",
       "      <td>...</td>\n",
       "      <td>0</td>\n",
       "      <td>1</td>\n",
       "      <td>0</td>\n",
       "      <td>0</td>\n",
       "      <td>0</td>\n",
       "      <td>0</td>\n",
       "      <td>1</td>\n",
       "      <td>0</td>\n",
       "      <td>0</td>\n",
       "      <td>0</td>\n",
       "    </tr>\n",
       "    <tr>\n",
       "      <th>3</th>\n",
       "      <td>1</td>\n",
       "      <td>C_ID_4e6213e9bc</td>\n",
       "      <td>88</td>\n",
       "      <td>0</td>\n",
       "      <td>0</td>\n",
       "      <td>560</td>\n",
       "      <td>M_ID_e6d5ae8ea6</td>\n",
       "      <td>-5</td>\n",
       "      <td>-0.735352</td>\n",
       "      <td>2017-09-02 10:06:26</td>\n",
       "      <td>...</td>\n",
       "      <td>0</td>\n",
       "      <td>1</td>\n",
       "      <td>0</td>\n",
       "      <td>0</td>\n",
       "      <td>0</td>\n",
       "      <td>0</td>\n",
       "      <td>1</td>\n",
       "      <td>0</td>\n",
       "      <td>0</td>\n",
       "      <td>0</td>\n",
       "    </tr>\n",
       "    <tr>\n",
       "      <th>4</th>\n",
       "      <td>1</td>\n",
       "      <td>C_ID_4e6213e9bc</td>\n",
       "      <td>88</td>\n",
       "      <td>0</td>\n",
       "      <td>0</td>\n",
       "      <td>80</td>\n",
       "      <td>M_ID_e020e9b302</td>\n",
       "      <td>-11</td>\n",
       "      <td>-0.722865</td>\n",
       "      <td>2017-03-10 01:14:19</td>\n",
       "      <td>...</td>\n",
       "      <td>0</td>\n",
       "      <td>1</td>\n",
       "      <td>0</td>\n",
       "      <td>0</td>\n",
       "      <td>0</td>\n",
       "      <td>0</td>\n",
       "      <td>1</td>\n",
       "      <td>0</td>\n",
       "      <td>0</td>\n",
       "      <td>0</td>\n",
       "    </tr>\n",
       "  </tbody>\n",
       "</table>\n",
       "<p>5 rows × 22 columns</p>\n",
       "</div>"
      ],
      "text/plain": [
       "   authorized_flag          card_id  city_id  category_1  installments  \\\n",
       "0                1  C_ID_4e6213e9bc       88           0             0   \n",
       "1                1  C_ID_4e6213e9bc       88           0             0   \n",
       "2                1  C_ID_4e6213e9bc       88           0             0   \n",
       "3                1  C_ID_4e6213e9bc       88           0             0   \n",
       "4                1  C_ID_4e6213e9bc       88           0             0   \n",
       "\n",
       "   merchant_category_id      merchant_id  month_lag  purchase_amount  \\\n",
       "0                    80  M_ID_e020e9b302         -8        -0.703331   \n",
       "1                   367  M_ID_86ec983688         -7        -0.733128   \n",
       "2                    80  M_ID_979ed661fc         -6        -0.720386   \n",
       "3                   560  M_ID_e6d5ae8ea6         -5        -0.735352   \n",
       "4                    80  M_ID_e020e9b302        -11        -0.722865   \n",
       "\n",
       "         purchase_date       ...        category_2_0.0  category_2_1.0  \\\n",
       "0  2017-06-25 15:33:07       ...                     0               1   \n",
       "1  2017-07-15 12:10:45       ...                     0               1   \n",
       "2  2017-08-09 22:04:29       ...                     0               1   \n",
       "3  2017-09-02 10:06:26       ...                     0               1   \n",
       "4  2017-03-10 01:14:19       ...                     0               1   \n",
       "\n",
       "   category_2_2.0  category_2_3.0  category_2_4.0  category_2_5.0  \\\n",
       "0               0               0               0               0   \n",
       "1               0               0               0               0   \n",
       "2               0               0               0               0   \n",
       "3               0               0               0               0   \n",
       "4               0               0               0               0   \n",
       "\n",
       "   category_3_0.0  category_3_1.0  category_3_2.0  category_3_3.0  \n",
       "0               1               0               0               0  \n",
       "1               1               0               0               0  \n",
       "2               1               0               0               0  \n",
       "3               1               0               0               0  \n",
       "4               1               0               0               0  \n",
       "\n",
       "[5 rows x 22 columns]"
      ]
     },
     "execution_count": 20,
     "metadata": {},
     "output_type": "execute_result"
    }
   ],
   "source": [
    "ht.head()"
   ]
  },
  {
   "cell_type": "code",
   "execution_count": 21,
   "metadata": {},
   "outputs": [],
   "source": [
    "scaler = MinMaxScaler(copy = True, feature_range=(0,1))\n",
    "scaler.fit(np.array(ht['purchase_amount']).reshape(-1,1))\n",
    "ht['purchase_amount'] = scaler.transform(np.array(ht['purchase_amount']).reshape(-1,1))"
   ]
  },
  {
   "cell_type": "code",
   "execution_count": 22,
   "metadata": {},
   "outputs": [
    {
     "data": {
      "text/html": [
       "<div>\n",
       "<style scoped>\n",
       "    .dataframe tbody tr th:only-of-type {\n",
       "        vertical-align: middle;\n",
       "    }\n",
       "\n",
       "    .dataframe tbody tr th {\n",
       "        vertical-align: top;\n",
       "    }\n",
       "\n",
       "    .dataframe thead th {\n",
       "        text-align: right;\n",
       "    }\n",
       "</style>\n",
       "<table border=\"1\" class=\"dataframe\">\n",
       "  <thead>\n",
       "    <tr style=\"text-align: right;\">\n",
       "      <th></th>\n",
       "      <th>authorized_flag</th>\n",
       "      <th>card_id</th>\n",
       "      <th>city_id</th>\n",
       "      <th>category_1</th>\n",
       "      <th>installments</th>\n",
       "      <th>merchant_category_id</th>\n",
       "      <th>merchant_id</th>\n",
       "      <th>month_lag</th>\n",
       "      <th>purchase_amount</th>\n",
       "      <th>purchase_date</th>\n",
       "      <th>...</th>\n",
       "      <th>category_2_0.0</th>\n",
       "      <th>category_2_1.0</th>\n",
       "      <th>category_2_2.0</th>\n",
       "      <th>category_2_3.0</th>\n",
       "      <th>category_2_4.0</th>\n",
       "      <th>category_2_5.0</th>\n",
       "      <th>category_3_0.0</th>\n",
       "      <th>category_3_1.0</th>\n",
       "      <th>category_3_2.0</th>\n",
       "      <th>category_3_3.0</th>\n",
       "    </tr>\n",
       "  </thead>\n",
       "  <tbody>\n",
       "    <tr>\n",
       "      <th>0</th>\n",
       "      <td>1</td>\n",
       "      <td>C_ID_4e6213e9bc</td>\n",
       "      <td>88</td>\n",
       "      <td>0</td>\n",
       "      <td>0</td>\n",
       "      <td>80</td>\n",
       "      <td>M_ID_e020e9b302</td>\n",
       "      <td>-8</td>\n",
       "      <td>7.250001e-09</td>\n",
       "      <td>2017-06-25 15:33:07</td>\n",
       "      <td>...</td>\n",
       "      <td>0</td>\n",
       "      <td>1</td>\n",
       "      <td>0</td>\n",
       "      <td>0</td>\n",
       "      <td>0</td>\n",
       "      <td>0</td>\n",
       "      <td>1</td>\n",
       "      <td>0</td>\n",
       "      <td>0</td>\n",
       "      <td>0</td>\n",
       "    </tr>\n",
       "    <tr>\n",
       "      <th>1</th>\n",
       "      <td>1</td>\n",
       "      <td>C_ID_4e6213e9bc</td>\n",
       "      <td>88</td>\n",
       "      <td>0</td>\n",
       "      <td>0</td>\n",
       "      <td>367</td>\n",
       "      <td>M_ID_86ec983688</td>\n",
       "      <td>-7</td>\n",
       "      <td>2.292501e-09</td>\n",
       "      <td>2017-07-15 12:10:45</td>\n",
       "      <td>...</td>\n",
       "      <td>0</td>\n",
       "      <td>1</td>\n",
       "      <td>0</td>\n",
       "      <td>0</td>\n",
       "      <td>0</td>\n",
       "      <td>0</td>\n",
       "      <td>1</td>\n",
       "      <td>0</td>\n",
       "      <td>0</td>\n",
       "      <td>0</td>\n",
       "    </tr>\n",
       "    <tr>\n",
       "      <th>2</th>\n",
       "      <td>1</td>\n",
       "      <td>C_ID_4e6213e9bc</td>\n",
       "      <td>88</td>\n",
       "      <td>0</td>\n",
       "      <td>0</td>\n",
       "      <td>80</td>\n",
       "      <td>M_ID_979ed661fc</td>\n",
       "      <td>-6</td>\n",
       "      <td>4.412501e-09</td>\n",
       "      <td>2017-08-09 22:04:29</td>\n",
       "      <td>...</td>\n",
       "      <td>0</td>\n",
       "      <td>1</td>\n",
       "      <td>0</td>\n",
       "      <td>0</td>\n",
       "      <td>0</td>\n",
       "      <td>0</td>\n",
       "      <td>1</td>\n",
       "      <td>0</td>\n",
       "      <td>0</td>\n",
       "      <td>0</td>\n",
       "    </tr>\n",
       "    <tr>\n",
       "      <th>3</th>\n",
       "      <td>1</td>\n",
       "      <td>C_ID_4e6213e9bc</td>\n",
       "      <td>88</td>\n",
       "      <td>0</td>\n",
       "      <td>0</td>\n",
       "      <td>560</td>\n",
       "      <td>M_ID_e6d5ae8ea6</td>\n",
       "      <td>-5</td>\n",
       "      <td>1.922500e-09</td>\n",
       "      <td>2017-09-02 10:06:26</td>\n",
       "      <td>...</td>\n",
       "      <td>0</td>\n",
       "      <td>1</td>\n",
       "      <td>0</td>\n",
       "      <td>0</td>\n",
       "      <td>0</td>\n",
       "      <td>0</td>\n",
       "      <td>1</td>\n",
       "      <td>0</td>\n",
       "      <td>0</td>\n",
       "      <td>0</td>\n",
       "    </tr>\n",
       "    <tr>\n",
       "      <th>4</th>\n",
       "      <td>1</td>\n",
       "      <td>C_ID_4e6213e9bc</td>\n",
       "      <td>88</td>\n",
       "      <td>0</td>\n",
       "      <td>0</td>\n",
       "      <td>80</td>\n",
       "      <td>M_ID_e020e9b302</td>\n",
       "      <td>-11</td>\n",
       "      <td>4.000000e-09</td>\n",
       "      <td>2017-03-10 01:14:19</td>\n",
       "      <td>...</td>\n",
       "      <td>0</td>\n",
       "      <td>1</td>\n",
       "      <td>0</td>\n",
       "      <td>0</td>\n",
       "      <td>0</td>\n",
       "      <td>0</td>\n",
       "      <td>1</td>\n",
       "      <td>0</td>\n",
       "      <td>0</td>\n",
       "      <td>0</td>\n",
       "    </tr>\n",
       "  </tbody>\n",
       "</table>\n",
       "<p>5 rows × 22 columns</p>\n",
       "</div>"
      ],
      "text/plain": [
       "   authorized_flag          card_id  city_id  category_1  installments  \\\n",
       "0                1  C_ID_4e6213e9bc       88           0             0   \n",
       "1                1  C_ID_4e6213e9bc       88           0             0   \n",
       "2                1  C_ID_4e6213e9bc       88           0             0   \n",
       "3                1  C_ID_4e6213e9bc       88           0             0   \n",
       "4                1  C_ID_4e6213e9bc       88           0             0   \n",
       "\n",
       "   merchant_category_id      merchant_id  month_lag  purchase_amount  \\\n",
       "0                    80  M_ID_e020e9b302         -8     7.250001e-09   \n",
       "1                   367  M_ID_86ec983688         -7     2.292501e-09   \n",
       "2                    80  M_ID_979ed661fc         -6     4.412501e-09   \n",
       "3                   560  M_ID_e6d5ae8ea6         -5     1.922500e-09   \n",
       "4                    80  M_ID_e020e9b302        -11     4.000000e-09   \n",
       "\n",
       "         purchase_date       ...        category_2_0.0  category_2_1.0  \\\n",
       "0  2017-06-25 15:33:07       ...                     0               1   \n",
       "1  2017-07-15 12:10:45       ...                     0               1   \n",
       "2  2017-08-09 22:04:29       ...                     0               1   \n",
       "3  2017-09-02 10:06:26       ...                     0               1   \n",
       "4  2017-03-10 01:14:19       ...                     0               1   \n",
       "\n",
       "   category_2_2.0  category_2_3.0  category_2_4.0  category_2_5.0  \\\n",
       "0               0               0               0               0   \n",
       "1               0               0               0               0   \n",
       "2               0               0               0               0   \n",
       "3               0               0               0               0   \n",
       "4               0               0               0               0   \n",
       "\n",
       "   category_3_0.0  category_3_1.0  category_3_2.0  category_3_3.0  \n",
       "0               1               0               0               0  \n",
       "1               1               0               0               0  \n",
       "2               1               0               0               0  \n",
       "3               1               0               0               0  \n",
       "4               1               0               0               0  \n",
       "\n",
       "[5 rows x 22 columns]"
      ]
     },
     "execution_count": 22,
     "metadata": {},
     "output_type": "execute_result"
    }
   ],
   "source": [
    "ht.head()"
   ]
  },
  {
   "cell_type": "code",
   "execution_count": 23,
   "metadata": {},
   "outputs": [],
   "source": [
    "def feature_eng11(data,prefix):\n",
    "    data['purchase_date'] = pd.to_datetime(data['purchase_date'])\n",
    "    data['year'] = data['purchase_date'].dt.year\n",
    "    data['weekofyear'] = data['purchase_date'].dt.weekofyear\n",
    "    data['purchase_month'] = data['purchase_date'].dt.month\n",
    "    data['dayofweek'] = data['purchase_date'].dt.dayofweek\n",
    "    data['weekend'] = (data.purchase_date.dt.weekday >= 5).astype(int)\n",
    "    data['hour'] = data['purchase_date'].dt.hour\n",
    "    data['installments'] = data['installments'].astype(int)\n",
    "    \n",
    "    data.loc[:,'purchase_date'] = pd.DatetimeIndex(data['purchase_date']).astype(np.int64)*1e-9\n",
    "    \n",
    "    agg_func = {\n",
    "        'authorized_flag':['sum','mean'],\n",
    "        'category_1':['sum','mean'],\n",
    "        'category_2_0.0':['sum','mean'],\n",
    "        'category_2_1.0':['sum','mean'],\n",
    "        'category_2_2.0':['sum','mean'],\n",
    "        'category_2_3.0':['sum','mean'],\n",
    "        'category_2_4.0':['sum','mean'],\n",
    "        'category_2_5.0':['sum','mean'],\n",
    "        'category_3_0.0':['sum','mean'],\n",
    "        'category_3_1.0':['sum','mean'],\n",
    "        'category_3_2.0':['sum','mean'],\n",
    "        'category_3_3.0':['sum','mean'],\n",
    "        'purchase_amount':['sum','mean','max','min','std'],\n",
    "        'installments':['sum','mean','max','min','std'],\n",
    "        'purchase_month':['sum','mean','max','min','std'],\n",
    "        'purchase_date':[np.ptp,'max','min'],\n",
    "        'month_lag':['min','max','mean','var'],\n",
    "        'merchant_category_id':['nunique'], #variety\n",
    "        'state_id':['nunique'],\n",
    "        'subsector_id':['nunique'],\n",
    "        'city_id':['nunique'],\n",
    "    }\n",
    "   \n",
    "    agg_trans = data.groupby(['card_id']).agg(agg_func)\n",
    "    agg_trans.columns = [prefix + '_'.join(col).strip() for col in agg_trans.columns.values]\n",
    "    agg_trans.reset_index(inplace = True)\n",
    "    \n",
    "    df = (data.groupby('card_id').size()\n",
    "         .reset_index(name = '{}transaction_count'.format(prefix)))\n",
    "    agg_trans = pd.merge(df, agg_trans, on = 'card_id',how = 'left')\n",
    "    return agg_trans"
   ]
  },
  {
   "cell_type": "code",
   "execution_count": 24,
   "metadata": {},
   "outputs": [
    {
     "name": "stdout",
     "output_type": "stream",
     "text": [
      "CPU times: user 1min 33s, sys: 32 s, total: 2min 5s\n",
      "Wall time: 2min 16s\n"
     ]
    }
   ],
   "source": [
    "%%time\n",
    "history = feature_eng11(ht, prefix = 'hist_')"
   ]
  },
  {
   "cell_type": "code",
   "execution_count": 25,
   "metadata": {},
   "outputs": [
    {
     "name": "stdout",
     "output_type": "stream",
     "text": [
      "CPU times: user 9min 11s, sys: 45.5 s, total: 9min 57s\n",
      "Wall time: 10min 22s\n"
     ]
    }
   ],
   "source": [
    "%%time\n",
    "temp = ht.groupby(['card_id']).apply(lambda x:x['city_id'].value_counts().idxmax())\n",
    "temp2 = ht.groupby(['card_id']).apply(lambda x:x['state_id'].value_counts().idxmax())\n",
    "temp3 = ht.groupby(['card_id']).apply(lambda x:x['subsector_id'].value_counts().idxmax())\n",
    "abc = pd.DataFrame(temp,columns = ['hist_city_id'])\n",
    "history_ = pd.merge(history,abc, on = 'card_id',how = 'left')\n",
    "abc = pd.DataFrame(temp2,columns = ['hist_state_id'])\n",
    "history_ = pd.merge(history_,abc, on = 'card_id',how = 'left')\n",
    "abc = pd.DataFrame(temp3,columns = ['hist_sub_id'])\n",
    "history_ = pd.merge(history_,abc, on = 'card_id',how = 'left')"
   ]
  },
  {
   "cell_type": "code",
   "execution_count": 26,
   "metadata": {},
   "outputs": [],
   "source": [
    "import gc\n",
    "gc.collect()\n",
    "train = pd.merge(train, history_,on = 'card_id',how = 'left')\n",
    "test = pd.merge(test,history_,on = 'card_id',how = 'left')\n",
    "del history_\n",
    "gc.collect()\n",
    "del ht"
   ]
  },
  {
   "cell_type": "markdown",
   "metadata": {},
   "source": [
    "# New_merchant_transactions"
   ]
  },
  {
   "cell_type": "code",
   "execution_count": 27,
   "metadata": {},
   "outputs": [],
   "source": [
    "nmt = pd.read_csv('dataset/all/input/new_merchant_transactions.csv')"
   ]
  },
  {
   "cell_type": "code",
   "execution_count": 28,
   "metadata": {},
   "outputs": [
    {
     "data": {
      "text/html": [
       "<div>\n",
       "<style scoped>\n",
       "    .dataframe tbody tr th:only-of-type {\n",
       "        vertical-align: middle;\n",
       "    }\n",
       "\n",
       "    .dataframe tbody tr th {\n",
       "        vertical-align: top;\n",
       "    }\n",
       "\n",
       "    .dataframe thead th {\n",
       "        text-align: right;\n",
       "    }\n",
       "</style>\n",
       "<table border=\"1\" class=\"dataframe\">\n",
       "  <thead>\n",
       "    <tr style=\"text-align: right;\">\n",
       "      <th></th>\n",
       "      <th>authorized_flag</th>\n",
       "      <th>card_id</th>\n",
       "      <th>city_id</th>\n",
       "      <th>category_1</th>\n",
       "      <th>installments</th>\n",
       "      <th>category_3</th>\n",
       "      <th>merchant_category_id</th>\n",
       "      <th>merchant_id</th>\n",
       "      <th>month_lag</th>\n",
       "      <th>purchase_amount</th>\n",
       "      <th>purchase_date</th>\n",
       "      <th>category_2</th>\n",
       "      <th>state_id</th>\n",
       "      <th>subsector_id</th>\n",
       "    </tr>\n",
       "  </thead>\n",
       "  <tbody>\n",
       "    <tr>\n",
       "      <th>0</th>\n",
       "      <td>Y</td>\n",
       "      <td>C_ID_415bb3a509</td>\n",
       "      <td>107</td>\n",
       "      <td>N</td>\n",
       "      <td>1</td>\n",
       "      <td>B</td>\n",
       "      <td>307</td>\n",
       "      <td>M_ID_b0c793002c</td>\n",
       "      <td>1</td>\n",
       "      <td>-0.557574</td>\n",
       "      <td>2018-03-11 14:57:36</td>\n",
       "      <td>1.0</td>\n",
       "      <td>9</td>\n",
       "      <td>19</td>\n",
       "    </tr>\n",
       "    <tr>\n",
       "      <th>1</th>\n",
       "      <td>Y</td>\n",
       "      <td>C_ID_415bb3a509</td>\n",
       "      <td>140</td>\n",
       "      <td>N</td>\n",
       "      <td>1</td>\n",
       "      <td>B</td>\n",
       "      <td>307</td>\n",
       "      <td>M_ID_88920c89e8</td>\n",
       "      <td>1</td>\n",
       "      <td>-0.569580</td>\n",
       "      <td>2018-03-19 18:53:37</td>\n",
       "      <td>1.0</td>\n",
       "      <td>9</td>\n",
       "      <td>19</td>\n",
       "    </tr>\n",
       "    <tr>\n",
       "      <th>2</th>\n",
       "      <td>Y</td>\n",
       "      <td>C_ID_415bb3a509</td>\n",
       "      <td>330</td>\n",
       "      <td>N</td>\n",
       "      <td>1</td>\n",
       "      <td>B</td>\n",
       "      <td>507</td>\n",
       "      <td>M_ID_ad5237ef6b</td>\n",
       "      <td>2</td>\n",
       "      <td>-0.551037</td>\n",
       "      <td>2018-04-26 14:08:44</td>\n",
       "      <td>1.0</td>\n",
       "      <td>9</td>\n",
       "      <td>14</td>\n",
       "    </tr>\n",
       "    <tr>\n",
       "      <th>3</th>\n",
       "      <td>Y</td>\n",
       "      <td>C_ID_415bb3a509</td>\n",
       "      <td>-1</td>\n",
       "      <td>Y</td>\n",
       "      <td>1</td>\n",
       "      <td>B</td>\n",
       "      <td>661</td>\n",
       "      <td>M_ID_9e84cda3b1</td>\n",
       "      <td>1</td>\n",
       "      <td>-0.671925</td>\n",
       "      <td>2018-03-07 09:43:21</td>\n",
       "      <td>NaN</td>\n",
       "      <td>-1</td>\n",
       "      <td>8</td>\n",
       "    </tr>\n",
       "    <tr>\n",
       "      <th>4</th>\n",
       "      <td>Y</td>\n",
       "      <td>C_ID_ef55cf8d4b</td>\n",
       "      <td>-1</td>\n",
       "      <td>Y</td>\n",
       "      <td>1</td>\n",
       "      <td>B</td>\n",
       "      <td>166</td>\n",
       "      <td>M_ID_3c86fa3831</td>\n",
       "      <td>1</td>\n",
       "      <td>-0.659904</td>\n",
       "      <td>2018-03-22 21:07:53</td>\n",
       "      <td>NaN</td>\n",
       "      <td>-1</td>\n",
       "      <td>29</td>\n",
       "    </tr>\n",
       "  </tbody>\n",
       "</table>\n",
       "</div>"
      ],
      "text/plain": [
       "  authorized_flag          card_id  city_id category_1  installments  \\\n",
       "0               Y  C_ID_415bb3a509      107          N             1   \n",
       "1               Y  C_ID_415bb3a509      140          N             1   \n",
       "2               Y  C_ID_415bb3a509      330          N             1   \n",
       "3               Y  C_ID_415bb3a509       -1          Y             1   \n",
       "4               Y  C_ID_ef55cf8d4b       -1          Y             1   \n",
       "\n",
       "  category_3  merchant_category_id      merchant_id  month_lag  \\\n",
       "0          B                   307  M_ID_b0c793002c          1   \n",
       "1          B                   307  M_ID_88920c89e8          1   \n",
       "2          B                   507  M_ID_ad5237ef6b          2   \n",
       "3          B                   661  M_ID_9e84cda3b1          1   \n",
       "4          B                   166  M_ID_3c86fa3831          1   \n",
       "\n",
       "   purchase_amount        purchase_date  category_2  state_id  subsector_id  \n",
       "0        -0.557574  2018-03-11 14:57:36         1.0         9            19  \n",
       "1        -0.569580  2018-03-19 18:53:37         1.0         9            19  \n",
       "2        -0.551037  2018-04-26 14:08:44         1.0         9            14  \n",
       "3        -0.671925  2018-03-07 09:43:21         NaN        -1             8  \n",
       "4        -0.659904  2018-03-22 21:07:53         NaN        -1            29  "
      ]
     },
     "execution_count": 28,
     "metadata": {},
     "output_type": "execute_result"
    }
   ],
   "source": [
    "nmt.head()"
   ]
  },
  {
   "cell_type": "code",
   "execution_count": 29,
   "metadata": {},
   "outputs": [],
   "source": [
    "nmt['authorized_flag'] = nmt.authorized_flag.map({'Y':1,'N':0})\n",
    "nmt['category_1'] = nmt.category_1.map({'Y':1,'N':0})\n",
    "nmt['category_2'] = nmt['category_2'].fillna(0)\n",
    "nmt['category_3'] = nmt.category_3.map({'A':0,'B':1,'C':2,'nan':3})\n",
    "nmt = pd.get_dummies(nmt,columns = ['category_2','category_3'])"
   ]
  },
  {
   "cell_type": "code",
   "execution_count": 30,
   "metadata": {},
   "outputs": [],
   "source": [
    "scaler = MinMaxScaler(copy = True, feature_range=(0,1))\n",
    "scaler.fit(np.array(nmt['purchase_amount']).reshape(-1,1))\n",
    "nmt['purchase_amount'] = scaler.transform(np.array(nmt['purchase_amount']).reshape(-1,1))"
   ]
  },
  {
   "cell_type": "code",
   "execution_count": 31,
   "metadata": {},
   "outputs": [],
   "source": [
    "def feature_eng12(data,prefix):\n",
    "    \n",
    "    data['purchase_date'] = pd.to_datetime(nmt['purchase_date'])\n",
    "    data['year'] = data['purchase_date'].dt.year\n",
    "    data['weekofyear'] = data['purchase_date'].dt.weekofyear\n",
    "    data['purchase_month'] = data['purchase_date'].dt.month\n",
    "    data['dayofweek'] = data['purchase_date'].dt.dayofweek\n",
    "    data['weekend'] = (data.purchase_date.dt.weekday >= 5).astype(int)\n",
    "    data['hour'] = data['purchase_date'].dt.hour\n",
    "    data['installments'] = data['installments'].astype(int)   \n",
    "    data.loc[:,'purchase_date'] = pd.DatetimeIndex(data['purchase_date']).astype(np.int64)*1e-9\n",
    "\n",
    "    agg_func = {\n",
    "        'authorized_flag':['sum','mean'],\n",
    "        'category_1':['sum','mean'],\n",
    "        'category_2_0.0':['sum','mean'],\n",
    "        'category_2_1.0':['sum','mean'],\n",
    "        'category_2_2.0':['sum','mean'],\n",
    "        'category_2_3.0':['sum','mean'],\n",
    "        'category_2_4.0':['sum','mean'],\n",
    "        'category_2_5.0':['sum','mean'],\n",
    "        'category_3_0.0':['sum','mean'],\n",
    "        'category_3_1.0':['sum','mean'],\n",
    "        'category_3_2.0':['sum','mean'],\n",
    "     \n",
    "        'purchase_amount':['sum','mean','max','min','std'],\n",
    "        'installments':['sum','mean','max','min','std'],\n",
    "        'purchase_month':['sum','mean','max','min','std'],\n",
    "        'purchase_date':[np.ptp,'max','min'],\n",
    "        'month_lag':['min','max','mean','var'],\n",
    "        'merchant_category_id':['nunique'], #variety\n",
    "        'state_id':['nunique'],\n",
    "        'subsector_id':['nunique'],\n",
    "        'city_id':['nunique'],\n",
    "    }\n",
    "   \n",
    "    agg_trans = data.groupby(['card_id']).agg(agg_func)\n",
    "    agg_trans.columns = [prefix + '_'.join(col).strip() for col in agg_trans.columns.values]\n",
    "    agg_trans.reset_index(inplace = True)\n",
    "    \n",
    "    df = (data.groupby('card_id').size()\n",
    "         .reset_index(name = '{}transaction_count'.format(prefix)))\n",
    "    agg_trans = pd.merge(df, agg_trans, on = 'card_id',how = 'left')\n",
    "    return agg_trans"
   ]
  },
  {
   "cell_type": "code",
   "execution_count": 32,
   "metadata": {},
   "outputs": [
    {
     "name": "stdout",
     "output_type": "stream",
     "text": [
      "CPU times: user 33 s, sys: 1.35 s, total: 34.4 s\n",
      "Wall time: 34.5 s\n"
     ]
    }
   ],
   "source": [
    "%%time\n",
    "gc.collect()\n",
    "new = feature_eng12(nmt,prefix = 'new_')\n",
    "gc.collect()"
   ]
  },
  {
   "cell_type": "code",
   "execution_count": 33,
   "metadata": {},
   "outputs": [],
   "source": [
    "temp = nmt.groupby(['card_id']).apply(lambda x:x['city_id'].value_counts().idxmax())\n",
    "temp2 = nmt.groupby(['card_id']).apply(lambda x:x['state_id'].value_counts().idxmax())\n",
    "temp3 = nmt.groupby(['card_id']).apply(lambda x:x['subsector_id'].value_counts().idxmax())\n",
    "abc = pd.DataFrame(temp,columns=['new_city_id'])\n",
    "new_ = pd.merge(new, abc, on='card_id', how='left')\n",
    "abc = pd.DataFrame(temp2,columns=['new_state_id'])\n",
    "new_ = pd.merge(new_, abc, on='card_id', how='left')\n",
    "abc = pd.DataFrame(temp3,columns=['new_sub_id'])\n",
    "new_ = pd.merge(new_, abc, on='card_id', how='left')"
   ]
  },
  {
   "cell_type": "code",
   "execution_count": 34,
   "metadata": {},
   "outputs": [],
   "source": [
    "gc.collect()\n",
    "train = pd.merge(train, new_,on = 'card_id',how = 'left')\n",
    "test = pd.merge(test,new_,on = 'card_id',how = 'left')\n",
    "del new_\n",
    "gc.collect()\n",
    "del nmt"
   ]
  },
  {
   "cell_type": "code",
   "execution_count": 35,
   "metadata": {},
   "outputs": [
    {
     "data": {
      "text/plain": [
       "Index(['first_active_month', 'card_id', 'feature_1', 'feature_2', 'feature_3',\n",
       "       'target', 'time', 'hist_transaction_count', 'hist_authorized_flag_sum',\n",
       "       'hist_authorized_flag_mean',\n",
       "       ...\n",
       "       'new_month_lag_max', 'new_month_lag_mean', 'new_month_lag_var',\n",
       "       'new_merchant_category_id_nunique', 'new_state_id_nunique',\n",
       "       'new_subsector_id_nunique', 'new_city_id_nunique', 'new_city_id',\n",
       "       'new_state_id', 'new_sub_id'],\n",
       "      dtype='object', length=113)"
      ]
     },
     "execution_count": 35,
     "metadata": {},
     "output_type": "execute_result"
    }
   ],
   "source": [
    "train.columns"
   ]
  },
  {
   "cell_type": "code",
   "execution_count": 36,
   "metadata": {},
   "outputs": [],
   "source": [
    "train['lifetime'] = train['new_purchase_date_max'] - train['hist_purchase_date_min']\n",
    "train['Purchase_rate'] = (train['hist_transaction_count'] + train['new_transaction_count']) / train['lifetime']\n",
    "test['lifetime'] = test['new_purchase_date_max'] - test['hist_purchase_date_min']\n",
    "test['Purchase_rate'] = (test['hist_transaction_count'] + test['new_transaction_count']) / test['lifetime']"
   ]
  },
  {
   "cell_type": "code",
   "execution_count": 37,
   "metadata": {},
   "outputs": [
    {
     "data": {
      "text/plain": [
       "115"
      ]
     },
     "execution_count": 37,
     "metadata": {},
     "output_type": "execute_result"
    }
   ],
   "source": [
    "len(train.columns)"
   ]
  },
  {
   "cell_type": "markdown",
   "metadata": {},
   "source": [
    "# Build Model"
   ]
  },
  {
   "cell_type": "code",
   "execution_count": 38,
   "metadata": {},
   "outputs": [],
   "source": [
    "y = train['target']"
   ]
  },
  {
   "cell_type": "code",
   "execution_count": 39,
   "metadata": {},
   "outputs": [],
   "source": [
    "for col in ['first_active_month','card_id','target']:\n",
    "    if col in train.columns:\n",
    "        train.drop([col],axis = 1, inplace = True)\n",
    "    if col in test.columns:\n",
    "        test.drop([col],axis = 1, inplace = True)"
   ]
  },
  {
   "cell_type": "code",
   "execution_count": 40,
   "metadata": {},
   "outputs": [],
   "source": [
    "X_train = train\n",
    "X_test = test"
   ]
  },
  {
   "cell_type": "code",
   "execution_count": 41,
   "metadata": {},
   "outputs": [
    {
     "data": {
      "text/plain": [
       "112"
      ]
     },
     "execution_count": 41,
     "metadata": {},
     "output_type": "execute_result"
    }
   ],
   "source": [
    "len(X_test.columns)"
   ]
  },
  {
   "cell_type": "code",
   "execution_count": 42,
   "metadata": {},
   "outputs": [],
   "source": [
    "n_fold = 5\n",
    "kfolds = KFold(n_splits = n_fold, shuffle = True, random_state = 11)"
   ]
  },
  {
   "cell_type": "code",
   "execution_count": 43,
   "metadata": {},
   "outputs": [],
   "source": [
    "sfolds = StratifiedKFold(n_splits = 5, shuffle = True, random_state = 2333)"
   ]
  },
  {
   "cell_type": "code",
   "execution_count": 44,
   "metadata": {},
   "outputs": [],
   "source": [
    "def train_model(X = X_train, X_test = X_test, y = y, params = None, folds = kfolds, model_type = 'lgb', plot_feature_importance = False):\n",
    "    #use sfolds and change\n",
    "    oof = np.zeros(len(X))\n",
    "    prediction = np.zeros(len(X_test))\n",
    "    scores = []\n",
    "    feature_importance = pd.DataFrame()\n",
    "    for fold_n, (train_index, valid_index) in enumerate(folds.split(X)):\n",
    "        print('Fold', fold_n, 'started at', time.ctime())\n",
    "        X_train, X_valid = X.iloc[train_index], X.iloc[valid_index]\n",
    "        y_train, y_valid = y.iloc[train_index], y.iloc[valid_index]\n",
    "        \n",
    "        if model_type == 'lgb':\n",
    "            model = lgb.LGBMRegressor(**params, n_estimators = 20000, nthread = 4, n_jobs = -1)\n",
    "            model.fit(X_train, y_train, \n",
    "                    eval_set=[(X_train, y_train), (X_valid, y_valid)], eval_metric='rmse',\n",
    "                    verbose=1000, early_stopping_rounds=200)\n",
    "           \n",
    "            y_pred_valid = model.predict(X_valid)\n",
    "            y_pred = model.predict(X_test, num_iteration = model.best_iteration_)\n",
    "            \n",
    "        \n",
    "        oof[valid_index] = y_pred_valid.reshape(-1,)\n",
    "        scores.append(mean_squared_error(y_valid, y_pred_valid) ** 0.5)\n",
    "        \n",
    "        prediction += y_pred\n",
    "        if model_type =='lgb':\n",
    "            #feature importance\n",
    "            fold_importance = pd.DataFrame()\n",
    "            fold_importance[\"feature\"] = X.columns\n",
    "            fold_importance[\"importance\"] = model.feature_importances_\n",
    "            fold_importance[\"fold\"] = fold_n + 1\n",
    "            feature_importance = pd.concat([feature_importance, fold_importance], axis = 0)\n",
    "            \n",
    "    prediction /= n_fold\n",
    "    \n",
    "    print('CV mean score: {0:.4f}, std{1:4f}.'.format(np.mean(scores), np.std(scores)))\n",
    "    \n",
    "    if model_type == 'lgb':\n",
    "        feature_importance[\"importance\"] /= n_fold\n",
    "        if plot_feature_importance:\n",
    "            cols = feature_importance[[\"feature\", \"importance\"]].groupby(\"feature\").mean().sort_values(\n",
    "                by = \"importance\", ascending = False)[:50].index\n",
    "            \n",
    "            best_features = feature_importance.loc[feature_importance.feature.isin(cols)]\n",
    "            \n",
    "            plt.figure(figsize = (16,12));\n",
    "            sns.barplot(x = \"importance\", y = 'feature', data = best_features.sort_values(by = \"importance\",ascending = False));\n",
    "            plt.title('LGB Features (avg over folds)');\n",
    "            \n",
    "            return oof, prediction, feature_importance\n",
    "        return oof, prediction\n",
    "    \n",
    "    else:\n",
    "        return oof, prediction"
   ]
  },
  {
   "cell_type": "code",
   "execution_count": 45,
   "metadata": {},
   "outputs": [],
   "source": [
    "params ={'num_leaves': 54,\n",
    "         'min_data_in_leaf': 79,\n",
    "         'objective': 'regression',\n",
    "         'max_depth': 15,\n",
    "         'learning_rate':0.018545526395058548,\n",
    "         \"boosting\": \"gbdt\",\n",
    "         \"feature_fraction\": 0.8354507676881442,\n",
    "         \"bagging_freq\": 3,\n",
    "         \"bagging_fraction\": 0.8126672064208567,\n",
    "         \"bagging_seed\": 11,\n",
    "         \"metric\": 'rmse',\n",
    "         \"lambda_l1\": 0.1,\n",
    "         \"verbosity\": -1,\n",
    "         'min_child_weight': 5.343384366323818,\n",
    "         'reg_alpha': 1.1302650970728192,\n",
    "         'reg_lambda': 0.3603427518866501,\n",
    "         'subsample': 0.8767547959893627,\n",
    "}"
   ]
  },
  {
   "cell_type": "code",
   "execution_count": 46,
   "metadata": {},
   "outputs": [
    {
     "name": "stdout",
     "output_type": "stream",
     "text": [
      "Fold 0 started at Sat Jan 26 10:25:58 2019\n",
      "Training until validation scores don't improve for 200 rounds.\n",
      "Early stopping, best iteration is:\n",
      "[436]\ttraining's rmse: 3.3822\tvalid_1's rmse: 3.71009\n",
      "Fold 1 started at Sat Jan 26 10:26:15 2019\n",
      "Training until validation scores don't improve for 200 rounds.\n",
      "Early stopping, best iteration is:\n",
      "[562]\ttraining's rmse: 3.34117\tvalid_1's rmse: 3.64124\n",
      "Fold 2 started at Sat Jan 26 10:26:38 2019\n",
      "Training until validation scores don't improve for 200 rounds.\n",
      "Early stopping, best iteration is:\n",
      "[525]\ttraining's rmse: 3.34918\tvalid_1's rmse: 3.68186\n",
      "Fold 3 started at Sat Jan 26 10:26:59 2019\n",
      "Training until validation scores don't improve for 200 rounds.\n",
      "Early stopping, best iteration is:\n",
      "[409]\ttraining's rmse: 3.39472\tvalid_1's rmse: 3.66714\n",
      "Fold 4 started at Sat Jan 26 10:27:16 2019\n",
      "Training until validation scores don't improve for 200 rounds.\n",
      "Early stopping, best iteration is:\n",
      "[498]\ttraining's rmse: 3.37479\tvalid_1's rmse: 3.62517\n",
      "CV mean score: 3.6651, std0.029911.\n"
     ]
    },
    {
     "data": {
      "image/png": "[encoded data removed]",
      "text/plain": [
       "<Figure size 1152x864 with 1 Axes>"
      ]
     },
     "metadata": {
      "needs_background": "light"
     },
     "output_type": "display_data"
    }
   ],
   "source": [
    "oof_lgb, prediction_lgb, feature_importance = train_model(params = params, model_type = 'lgb', plot_feature_importance = True)"
   ]
  },
  {
   "cell_type": "code",
   "execution_count": 76,
   "metadata": {},
   "outputs": [],
   "source": [
    "sample_submission = pd.read_csv('dataset/all/output/sample_submission0125.csv')\n",
    "sample_submission['target'] = prediction_lgb\n",
    "sample_submission.to_csv('dataset/all/output/lgb.csv', index = False)"
   ]
  },
  {
   "cell_type": "code",
   "execution_count": 75,
   "metadata": {
    "scrolled": true
   },
   "outputs": [
    {
     "data": {
      "text/plain": [
       "count    123623.000000\n",
       "mean         -0.392047\n",
       "std           1.163743\n",
       "min         -18.508661\n",
       "25%          -0.648206\n",
       "50%          -0.200616\n",
       "75%           0.166906\n",
       "max           2.946499\n",
       "Name: target, dtype: float64"
      ]
     },
     "execution_count": 75,
     "metadata": {},
     "output_type": "execute_result"
    }
   ],
   "source": [
    "sample_submission['target'].describe()"
   ]
  },
  {
   "cell_type": "code",
   "execution_count": 49,
   "metadata": {},
   "outputs": [],
   "source": [
    "train2 = pd.read_csv('dataset/all/input/train.csv')\n",
    "test2 = pd.read_csv('dataset/all/input/test.csv')"
   ]
  },
  {
   "cell_type": "code",
   "execution_count": 50,
   "metadata": {},
   "outputs": [
    {
     "data": {
      "text/plain": [
       "0    199710\n",
       "1      2207\n",
       "Name: outliers, dtype: int64"
      ]
     },
     "execution_count": 50,
     "metadata": {},
     "output_type": "execute_result"
    }
   ],
   "source": [
    "train['outliers'] = np.where(train2['target']<-30,1,0)\n",
    "train['target'] = train2['target']\n",
    "train['card_id'] = train2['card_id']\n",
    "train['first_active_month'] = train2['first_active_month']\n",
    "test['card_id'] = test2['card_id']\n",
    "test['first_active_month'] = test2['first_active_month']\n",
    "train['outliers'].value_counts()"
   ]
  },
  {
   "cell_type": "markdown",
   "metadata": {},
   "source": [
    "# Training model for data without outliers"
   ]
  },
  {
   "cell_type": "code",
   "execution_count": 51,
   "metadata": {},
   "outputs": [],
   "source": [
    "param1 = {'objective':'regression',\n",
    "          'num_leaves':31,\n",
    "          'min_data_in_leaf':25,\n",
    "          'max_depth':7,\n",
    "          'learning_rate':0.01,\n",
    "          'lambda_11':0.13,\n",
    "          \"boosting\":\"gbdt\",\n",
    "          \"feature_fraction\":0.85,\n",
    "          'bagging_freq':8,\n",
    "          \"bagging_fraction\":0.9,\n",
    "          \"metric\":'rmse',\n",
    "          \"verbosity\":-1,\n",
    "          \"random_state\":2333}"
   ]
  },
  {
   "cell_type": "code",
   "execution_count": 52,
   "metadata": {},
   "outputs": [],
   "source": [
    "df_train = train[train['outliers'] == 0]\n",
    "target = df_train['target']\n",
    "del df_train['target']\n",
    "features = [c for c in df_train.columns if c not in['card_id','first_active_month','outliers']]\n",
    "categorical_feats = [c for c in features if 'feature_' in c]\n",
    "df_test = test"
   ]
  },
  {
   "cell_type": "code",
   "execution_count": 53,
   "metadata": {},
   "outputs": [],
   "source": [
    "def model_mix1(df_train,features,categorical_feats,df_test):\n",
    "    sfolds = StratifiedKFold(n_splits = 5, shuffle = True, random_state = 2333)\n",
    "    oof = np.zeros(len(df_train))\n",
    "    predictions = np.zeros(len(df_test))\n",
    "    feature_importance_df = pd.DataFrame()\n",
    "    for fold_, (trn_idx, val_idx) in enumerate(sfolds.split(df_train,df_train['outliers'].values)):\n",
    "        print(\"fold {}\".format(fold_))\n",
    "        trn_data = lgb.Dataset(df_train.iloc[trn_idx][features], label = target.iloc[trn_idx])\n",
    "        val_data = lgb.Dataset(df_train.iloc[val_idx][features],label = target.iloc[val_idx])\n",
    "        num_round = 10000\n",
    "        clf = lgb.train(param1, trn_data, num_round, valid_sets = \n",
    "                       [trn_data, val_data], verbose_eval = 100, early_stopping_rounds = 200)\n",
    "        oof[val_idx] = clf.predict(df_train.iloc[val_idx][features], num_iteration = clf.best_iteration)\n",
    "        \n",
    "        fold_importance_df = pd.DataFrame()\n",
    "        fold_importance_df[\"Feature\"] = features\n",
    "        fold_importance_df[\"importance\"] = clf.feature_importance()\n",
    "        fold_importance_df[\"fold\"] = fold_ + 1\n",
    "        feature_importance_df = pd.concat([feature_importance_df, fold_importance_df], axis = 0)\n",
    "        predictions += clf.predict(df_test[features], num_iteration = clf.best_iteration) / sfolds.n_splits\n",
    "    return(predictions)"
   ]
  },
  {
   "cell_type": "code",
   "execution_count": 54,
   "metadata": {},
   "outputs": [
    {
     "name": "stdout",
     "output_type": "stream",
     "text": [
      "fold 0\n",
      "Training until validation scores don't improve for 200 rounds.\n",
      "[100]\ttraining's rmse: 1.60332\tvalid_1's rmse: 1.61492\n",
      "[200]\ttraining's rmse: 1.57289\tvalid_1's rmse: 1.58882\n",
      "[300]\ttraining's rmse: 1.55891\tvalid_1's rmse: 1.5788\n",
      "[400]\ttraining's rmse: 1.54986\tvalid_1's rmse: 1.57353\n",
      "[500]\ttraining's rmse: 1.543\tvalid_1's rmse: 1.57053\n",
      "[600]\ttraining's rmse: 1.53746\tvalid_1's rmse: 1.56837\n",
      "[700]\ttraining's rmse: 1.53274\tvalid_1's rmse: 1.56713\n",
      "[800]\ttraining's rmse: 1.52841\tvalid_1's rmse: 1.56617\n",
      "[900]\ttraining's rmse: 1.52443\tvalid_1's rmse: 1.56544\n",
      "[1000]\ttraining's rmse: 1.52074\tvalid_1's rmse: 1.56504\n",
      "[1100]\ttraining's rmse: 1.51703\tvalid_1's rmse: 1.56451\n",
      "[1200]\ttraining's rmse: 1.51349\tvalid_1's rmse: 1.5642\n",
      "[1300]\ttraining's rmse: 1.51016\tvalid_1's rmse: 1.56402\n",
      "[1400]\ttraining's rmse: 1.50715\tvalid_1's rmse: 1.56387\n",
      "[1500]\ttraining's rmse: 1.50395\tvalid_1's rmse: 1.56374\n",
      "[1600]\ttraining's rmse: 1.50088\tvalid_1's rmse: 1.56355\n",
      "[1700]\ttraining's rmse: 1.49773\tvalid_1's rmse: 1.56347\n",
      "[1800]\ttraining's rmse: 1.49482\tvalid_1's rmse: 1.56345\n",
      "[1900]\ttraining's rmse: 1.49186\tvalid_1's rmse: 1.56342\n",
      "[2000]\ttraining's rmse: 1.48899\tvalid_1's rmse: 1.56345\n",
      "Early stopping, best iteration is:\n",
      "[1816]\ttraining's rmse: 1.49426\tvalid_1's rmse: 1.56339\n",
      "fold 1\n",
      "Training until validation scores don't improve for 200 rounds.\n",
      "[100]\ttraining's rmse: 1.60879\tvalid_1's rmse: 1.59211\n",
      "[200]\ttraining's rmse: 1.57827\tvalid_1's rmse: 1.5663\n",
      "[300]\ttraining's rmse: 1.5645\tvalid_1's rmse: 1.55688\n",
      "[400]\ttraining's rmse: 1.55546\tvalid_1's rmse: 1.55197\n",
      "[500]\ttraining's rmse: 1.54859\tvalid_1's rmse: 1.54921\n",
      "[600]\ttraining's rmse: 1.54297\tvalid_1's rmse: 1.5476\n",
      "[700]\ttraining's rmse: 1.53803\tvalid_1's rmse: 1.54628\n",
      "[800]\ttraining's rmse: 1.53381\tvalid_1's rmse: 1.54557\n",
      "[900]\ttraining's rmse: 1.52989\tvalid_1's rmse: 1.5451\n",
      "[1000]\ttraining's rmse: 1.5261\tvalid_1's rmse: 1.54472\n",
      "[1100]\ttraining's rmse: 1.52244\tvalid_1's rmse: 1.54439\n",
      "[1200]\ttraining's rmse: 1.51889\tvalid_1's rmse: 1.5443\n",
      "[1300]\ttraining's rmse: 1.51551\tvalid_1's rmse: 1.54421\n",
      "[1400]\ttraining's rmse: 1.51223\tvalid_1's rmse: 1.54408\n",
      "[1500]\ttraining's rmse: 1.5091\tvalid_1's rmse: 1.54396\n",
      "[1600]\ttraining's rmse: 1.50614\tvalid_1's rmse: 1.54396\n",
      "[1700]\ttraining's rmse: 1.50306\tvalid_1's rmse: 1.54389\n",
      "[1800]\ttraining's rmse: 1.50012\tvalid_1's rmse: 1.54379\n",
      "[1900]\ttraining's rmse: 1.49699\tvalid_1's rmse: 1.54393\n",
      "Early stopping, best iteration is:\n",
      "[1768]\ttraining's rmse: 1.50104\tvalid_1's rmse: 1.54375\n",
      "fold 2\n",
      "Training until validation scores don't improve for 200 rounds.\n",
      "[100]\ttraining's rmse: 1.60179\tvalid_1's rmse: 1.62276\n",
      "[200]\ttraining's rmse: 1.57184\tvalid_1's rmse: 1.59487\n",
      "[300]\ttraining's rmse: 1.5581\tvalid_1's rmse: 1.58442\n",
      "[400]\ttraining's rmse: 1.54916\tvalid_1's rmse: 1.57882\n",
      "[500]\ttraining's rmse: 1.54238\tvalid_1's rmse: 1.57565\n",
      "[600]\ttraining's rmse: 1.53687\tvalid_1's rmse: 1.5737\n",
      "[700]\ttraining's rmse: 1.53199\tvalid_1's rmse: 1.57236\n",
      "[800]\ttraining's rmse: 1.52764\tvalid_1's rmse: 1.57129\n",
      "[900]\ttraining's rmse: 1.52368\tvalid_1's rmse: 1.57045\n",
      "[1000]\ttraining's rmse: 1.51994\tvalid_1's rmse: 1.57007\n",
      "[1100]\ttraining's rmse: 1.51651\tvalid_1's rmse: 1.56963\n",
      "[1200]\ttraining's rmse: 1.51308\tvalid_1's rmse: 1.56935\n",
      "[1300]\ttraining's rmse: 1.5099\tvalid_1's rmse: 1.56913\n",
      "[1400]\ttraining's rmse: 1.50672\tvalid_1's rmse: 1.569\n",
      "[1500]\ttraining's rmse: 1.50357\tvalid_1's rmse: 1.56874\n",
      "[1600]\ttraining's rmse: 1.50068\tvalid_1's rmse: 1.56859\n",
      "[1700]\ttraining's rmse: 1.49773\tvalid_1's rmse: 1.56857\n",
      "[1800]\ttraining's rmse: 1.49477\tvalid_1's rmse: 1.56848\n",
      "[1900]\ttraining's rmse: 1.49194\tvalid_1's rmse: 1.56834\n",
      "[2000]\ttraining's rmse: 1.48904\tvalid_1's rmse: 1.56828\n",
      "[2100]\ttraining's rmse: 1.4861\tvalid_1's rmse: 1.56841\n",
      "Early stopping, best iteration is:\n",
      "[1993]\ttraining's rmse: 1.48921\tvalid_1's rmse: 1.56826\n",
      "fold 3\n",
      "Training until validation scores don't improve for 200 rounds.\n",
      "[100]\ttraining's rmse: 1.60656\tvalid_1's rmse: 1.59904\n",
      "[200]\ttraining's rmse: 1.57602\tvalid_1's rmse: 1.57455\n",
      "[300]\ttraining's rmse: 1.56197\tvalid_1's rmse: 1.56574\n",
      "[400]\ttraining's rmse: 1.55299\tvalid_1's rmse: 1.56133\n",
      "[500]\ttraining's rmse: 1.54618\tvalid_1's rmse: 1.55872\n",
      "[600]\ttraining's rmse: 1.54058\tvalid_1's rmse: 1.55703\n",
      "[700]\ttraining's rmse: 1.5357\tvalid_1's rmse: 1.55569\n",
      "[800]\ttraining's rmse: 1.53145\tvalid_1's rmse: 1.55489\n",
      "[900]\ttraining's rmse: 1.52754\tvalid_1's rmse: 1.55436\n",
      "[1000]\ttraining's rmse: 1.5238\tvalid_1's rmse: 1.55391\n",
      "[1100]\ttraining's rmse: 1.52013\tvalid_1's rmse: 1.55358\n",
      "[1200]\ttraining's rmse: 1.51664\tvalid_1's rmse: 1.55347\n",
      "[1300]\ttraining's rmse: 1.51358\tvalid_1's rmse: 1.55337\n",
      "[1400]\ttraining's rmse: 1.51036\tvalid_1's rmse: 1.55327\n",
      "[1500]\ttraining's rmse: 1.50718\tvalid_1's rmse: 1.55314\n",
      "[1600]\ttraining's rmse: 1.50425\tvalid_1's rmse: 1.55301\n",
      "[1700]\ttraining's rmse: 1.50114\tvalid_1's rmse: 1.55296\n",
      "[1800]\ttraining's rmse: 1.49815\tvalid_1's rmse: 1.55292\n",
      "[1900]\ttraining's rmse: 1.49499\tvalid_1's rmse: 1.55288\n",
      "[2000]\ttraining's rmse: 1.49205\tvalid_1's rmse: 1.55291\n",
      "Early stopping, best iteration is:\n",
      "[1878]\ttraining's rmse: 1.49573\tvalid_1's rmse: 1.55284\n",
      "fold 4\n",
      "Training until validation scores don't improve for 200 rounds.\n",
      "[100]\ttraining's rmse: 1.60338\tvalid_1's rmse: 1.61601\n",
      "[200]\ttraining's rmse: 1.5734\tvalid_1's rmse: 1.5891\n",
      "[300]\ttraining's rmse: 1.55955\tvalid_1's rmse: 1.57894\n",
      "[400]\ttraining's rmse: 1.55046\tvalid_1's rmse: 1.57345\n",
      "[500]\ttraining's rmse: 1.54366\tvalid_1's rmse: 1.57014\n",
      "[600]\ttraining's rmse: 1.53815\tvalid_1's rmse: 1.56806\n",
      "[700]\ttraining's rmse: 1.53336\tvalid_1's rmse: 1.56662\n",
      "[800]\ttraining's rmse: 1.52912\tvalid_1's rmse: 1.56556\n",
      "[900]\ttraining's rmse: 1.52517\tvalid_1's rmse: 1.56477\n",
      "[1000]\ttraining's rmse: 1.52156\tvalid_1's rmse: 1.56428\n",
      "[1100]\ttraining's rmse: 1.51812\tvalid_1's rmse: 1.56393\n",
      "[1200]\ttraining's rmse: 1.51471\tvalid_1's rmse: 1.56366\n",
      "[1300]\ttraining's rmse: 1.51158\tvalid_1's rmse: 1.56349\n",
      "[1400]\ttraining's rmse: 1.5082\tvalid_1's rmse: 1.56319\n",
      "[1500]\ttraining's rmse: 1.50524\tvalid_1's rmse: 1.56304\n",
      "[1600]\ttraining's rmse: 1.50219\tvalid_1's rmse: 1.56294\n",
      "[1700]\ttraining's rmse: 1.49929\tvalid_1's rmse: 1.56282\n",
      "[1800]\ttraining's rmse: 1.49641\tvalid_1's rmse: 1.56292\n",
      "[1900]\ttraining's rmse: 1.49362\tvalid_1's rmse: 1.56303\n",
      "Early stopping, best iteration is:\n",
      "[1709]\ttraining's rmse: 1.49903\tvalid_1's rmse: 1.5628\n",
      "CPU times: user 24min 41s, sys: 1min 22s, total: 26min 3s\n",
      "Wall time: 3min 27s\n"
     ]
    }
   ],
   "source": [
    "%%time\n",
    "pred_no_outliers = model_mix1(df_train, features, categorical_feats, df_test)"
   ]
  },
  {
   "cell_type": "code",
   "execution_count": 55,
   "metadata": {},
   "outputs": [],
   "source": [
    "model_without_outliers = pd.DataFrame({\"card_id\":df_test[\"card_id\"].values})\n",
    "model_without_outliers[\"target\"] = pred_no_outliers"
   ]
  },
  {
   "cell_type": "markdown",
   "metadata": {},
   "source": [
    "# Training Model For Outliers classification"
   ]
  },
  {
   "cell_type": "code",
   "execution_count": 56,
   "metadata": {},
   "outputs": [
    {
     "data": {
      "text/plain": [
       "(201917, 114)"
      ]
     },
     "execution_count": 56,
     "metadata": {},
     "output_type": "execute_result"
    }
   ],
   "source": [
    "df_train2 = train\n",
    "target2 = train['outliers']\n",
    "del df_train2['outliers']\n",
    "del df_train2['target']\n",
    "df_train2.shape"
   ]
  },
  {
   "cell_type": "code",
   "execution_count": 57,
   "metadata": {},
   "outputs": [],
   "source": [
    "features2 = [c for c in df_train2.columns if c not in ['card_id', 'first_active_month']]\n",
    "categorical_feats2 = [c for c in features if 'feature_' in c]"
   ]
  },
  {
   "cell_type": "code",
   "execution_count": 58,
   "metadata": {},
   "outputs": [],
   "source": [
    "param2 = {'num_leaves': 31,\n",
    "         'min_data_in_leaf': 30,\n",
    "         'objective':'binary',\n",
    "         'max_depth': 6,\n",
    "         'learning_rate': 0.01,\n",
    "         \"boosting\": \"rf\",\n",
    "         \"feature_fraction\": 0.9,\n",
    "         \"bagging_freq\": 1,\n",
    "         \"bagging_fraction\": 0.9,\n",
    "         \"bagging_seed\": 11,\n",
    "         \"metric\": 'binary_logloss',\n",
    "         \"lambda_11\": 0.1,\n",
    "         \"verbosity\": -1,\n",
    "         \"random_state\":2333}"
   ]
  },
  {
   "cell_type": "code",
   "execution_count": 59,
   "metadata": {},
   "outputs": [],
   "source": [
    "def model_mix2(df_train, features, categorical_feats, df_test, target):\n",
    "    folds = KFold(n_splits = 5, shuffle = True, random_state = 15)\n",
    "    oof = np.zeros(len(df_train))\n",
    "    predictions = np.zeros(len(df_test))\n",
    "    feature_importance_df = pd.DataFrame()\n",
    "    \n",
    "    start = time.time()\n",
    "    \n",
    "    for fold_, (trn_idx, val_idx) in enumerate(folds.split(df_train.values, target.values)):\n",
    "        print(\"fold n°{}\".format(fold_))\n",
    "        trn_data = lgb.Dataset(df_train.iloc[trn_idx][features], label = target.iloc[trn_idx], categorical_feature = categorical_feats)\n",
    "        val_data = lgb.Dataset(df_train.iloc[val_idx][features], label = target.iloc[val_idx], categorical_feature = categorical_feats)\n",
    "        \n",
    "        num_round = 10000\n",
    "        clf = lgb.train(param2, trn_data, num_round, valid_sets = [trn_data, val_data], verbose_eval = 100, early_stopping_rounds = 200)\n",
    "        oof[val_idx] = clf.predict(df_train.iloc[val_idx][features], num_iteration = clf.best_iteration)\n",
    "        \n",
    "        fold_importance_df = pd.DataFrame()\n",
    "        fold_importance_df[\"feature\"] = features\n",
    "        fold_importance_df[\"importance\"] = clf.feature_importance()\n",
    "        fold_importance_df[\"fold\"] = fold_ + 1\n",
    "        feature_importance_df = pd.concat([feature_importance_df, fold_importance_df], axis = 0)\n",
    "        \n",
    "        predictions += clf.predict(df_test[features], num_iteration = clf.best_iteration)\n",
    "    return(predictions, clf)"
   ]
  },
  {
   "cell_type": "code",
   "execution_count": 60,
   "metadata": {},
   "outputs": [
    {
     "name": "stdout",
     "output_type": "stream",
     "text": [
      "fold n°0\n"
     ]
    },
    {
     "name": "stderr",
     "output_type": "stream",
     "text": [
      "/Users/shutingchen/anaconda3/lib/python3.7/site-packages/lightgbm/basic.py:1184: UserWarning: Using categorical_feature in Dataset.\n",
      "  warnings.warn('Using categorical_feature in Dataset.')\n",
      "/Users/shutingchen/anaconda3/lib/python3.7/site-packages/lightgbm/basic.py:742: UserWarning: categorical_feature in param dict is overridden.\n",
      "  warnings.warn('categorical_feature in param dict is overridden.')\n"
     ]
    },
    {
     "name": "stdout",
     "output_type": "stream",
     "text": [
      "Training until validation scores don't improve for 200 rounds.\n",
      "[100]\ttraining's binary_logloss: 0.0450986\tvalid_1's binary_logloss: 0.0478928\n",
      "[200]\ttraining's binary_logloss: 0.0450984\tvalid_1's binary_logloss: 0.0479082\n",
      "Early stopping, best iteration is:\n",
      "[74]\ttraining's binary_logloss: 0.0450066\tvalid_1's binary_logloss: 0.0477504\n",
      "fold n°1\n"
     ]
    },
    {
     "name": "stderr",
     "output_type": "stream",
     "text": [
      "/Users/shutingchen/anaconda3/lib/python3.7/site-packages/lightgbm/basic.py:1184: UserWarning: Using categorical_feature in Dataset.\n",
      "  warnings.warn('Using categorical_feature in Dataset.')\n",
      "/Users/shutingchen/anaconda3/lib/python3.7/site-packages/lightgbm/basic.py:742: UserWarning: categorical_feature in param dict is overridden.\n",
      "  warnings.warn('categorical_feature in param dict is overridden.')\n"
     ]
    },
    {
     "name": "stdout",
     "output_type": "stream",
     "text": [
      "Training until validation scores don't improve for 200 rounds.\n",
      "[100]\ttraining's binary_logloss: 0.0454943\tvalid_1's binary_logloss: 0.046341\n",
      "[200]\ttraining's binary_logloss: 0.0455018\tvalid_1's binary_logloss: 0.0463319\n",
      "Early stopping, best iteration is:\n",
      "[35]\ttraining's binary_logloss: 0.0454988\tvalid_1's binary_logloss: 0.0462547\n",
      "fold n°2\n"
     ]
    },
    {
     "name": "stderr",
     "output_type": "stream",
     "text": [
      "/Users/shutingchen/anaconda3/lib/python3.7/site-packages/lightgbm/basic.py:1184: UserWarning: Using categorical_feature in Dataset.\n",
      "  warnings.warn('Using categorical_feature in Dataset.')\n",
      "/Users/shutingchen/anaconda3/lib/python3.7/site-packages/lightgbm/basic.py:742: UserWarning: categorical_feature in param dict is overridden.\n",
      "  warnings.warn('categorical_feature in param dict is overridden.')\n"
     ]
    },
    {
     "name": "stdout",
     "output_type": "stream",
     "text": [
      "Training until validation scores don't improve for 200 rounds.\n",
      "[100]\ttraining's binary_logloss: 0.0456019\tvalid_1's binary_logloss: 0.0448419\n",
      "[200]\ttraining's binary_logloss: 0.0456412\tvalid_1's binary_logloss: 0.0448846\n",
      "Early stopping, best iteration is:\n",
      "[66]\ttraining's binary_logloss: 0.0455377\tvalid_1's binary_logloss: 0.044807\n",
      "fold n°3\n"
     ]
    },
    {
     "name": "stderr",
     "output_type": "stream",
     "text": [
      "/Users/shutingchen/anaconda3/lib/python3.7/site-packages/lightgbm/basic.py:1184: UserWarning: Using categorical_feature in Dataset.\n",
      "  warnings.warn('Using categorical_feature in Dataset.')\n",
      "/Users/shutingchen/anaconda3/lib/python3.7/site-packages/lightgbm/basic.py:742: UserWarning: categorical_feature in param dict is overridden.\n",
      "  warnings.warn('categorical_feature in param dict is overridden.')\n"
     ]
    },
    {
     "name": "stdout",
     "output_type": "stream",
     "text": [
      "Training until validation scores don't improve for 200 rounds.\n",
      "[100]\ttraining's binary_logloss: 0.0442611\tvalid_1's binary_logloss: 0.0503351\n",
      "[200]\ttraining's binary_logloss: 0.044273\tvalid_1's binary_logloss: 0.0503352\n",
      "Early stopping, best iteration is:\n",
      "[67]\ttraining's binary_logloss: 0.0441957\tvalid_1's binary_logloss: 0.0502931\n",
      "fold n°4\n"
     ]
    },
    {
     "name": "stderr",
     "output_type": "stream",
     "text": [
      "/Users/shutingchen/anaconda3/lib/python3.7/site-packages/lightgbm/basic.py:1184: UserWarning: Using categorical_feature in Dataset.\n",
      "  warnings.warn('Using categorical_feature in Dataset.')\n",
      "/Users/shutingchen/anaconda3/lib/python3.7/site-packages/lightgbm/basic.py:742: UserWarning: categorical_feature in param dict is overridden.\n",
      "  warnings.warn('categorical_feature in param dict is overridden.')\n"
     ]
    },
    {
     "name": "stdout",
     "output_type": "stream",
     "text": [
      "Training until validation scores don't improve for 200 rounds.\n",
      "[100]\ttraining's binary_logloss: 0.0454159\tvalid_1's binary_logloss: 0.0458092\n",
      "[200]\ttraining's binary_logloss: 0.045416\tvalid_1's binary_logloss: 0.0457952\n",
      "Early stopping, best iteration is:\n",
      "[69]\ttraining's binary_logloss: 0.0453597\tvalid_1's binary_logloss: 0.0457174\n",
      "CPU times: user 3min 42s, sys: 20.6 s, total: 4min 2s\n",
      "Wall time: 37.8 s\n"
     ]
    }
   ],
   "source": [
    "%%time\n",
    "pred_outliers, clf_outliers = model_mix2(df_train2, features2, categorical_feats2, df_test, target2)"
   ]
  },
  {
   "cell_type": "code",
   "execution_count": 61,
   "metadata": {},
   "outputs": [],
   "source": [
    "train_pred = clf_outliers.predict(df_train2[features2], num_iteration = clf_outliers.best_iteration)"
   ]
  },
  {
   "cell_type": "code",
   "execution_count": 62,
   "metadata": {},
   "outputs": [],
   "source": [
    "threshold = 0.4\n",
    "train_pred[train_pred < threshold] = 0\n",
    "train_pred[train_pred >= threshold] = 1"
   ]
  },
  {
   "cell_type": "code",
   "execution_count": 63,
   "metadata": {},
   "outputs": [
    {
     "data": {
      "text/plain": [
       "array([[199710,      0],\n",
       "       [  2207,      0]])"
      ]
     },
     "execution_count": 63,
     "metadata": {},
     "output_type": "execute_result"
    }
   ],
   "source": [
    "confusion_matrix(target2, train_pred)"
   ]
  },
  {
   "cell_type": "code",
   "execution_count": 64,
   "metadata": {},
   "outputs": [
    {
     "data": {
      "text/html": [
       "<div>\n",
       "<style scoped>\n",
       "    .dataframe tbody tr th:only-of-type {\n",
       "        vertical-align: middle;\n",
       "    }\n",
       "\n",
       "    .dataframe tbody tr th {\n",
       "        vertical-align: top;\n",
       "    }\n",
       "\n",
       "    .dataframe thead th {\n",
       "        text-align: right;\n",
       "    }\n",
       "</style>\n",
       "<table border=\"1\" class=\"dataframe\">\n",
       "  <thead>\n",
       "    <tr style=\"text-align: right;\">\n",
       "      <th></th>\n",
       "      <th>card_id</th>\n",
       "      <th>target</th>\n",
       "    </tr>\n",
       "  </thead>\n",
       "  <tbody>\n",
       "    <tr>\n",
       "      <th>0</th>\n",
       "      <td>C_ID_0ab67a22ab</td>\n",
       "      <td>0.251711</td>\n",
       "    </tr>\n",
       "    <tr>\n",
       "      <th>1</th>\n",
       "      <td>C_ID_130fd0cbdd</td>\n",
       "      <td>0.009044</td>\n",
       "    </tr>\n",
       "    <tr>\n",
       "      <th>2</th>\n",
       "      <td>C_ID_b709037bc5</td>\n",
       "      <td>0.033288</td>\n",
       "    </tr>\n",
       "    <tr>\n",
       "      <th>3</th>\n",
       "      <td>C_ID_d27d835a9f</td>\n",
       "      <td>0.009044</td>\n",
       "    </tr>\n",
       "    <tr>\n",
       "      <th>4</th>\n",
       "      <td>C_ID_2b5e3df5c2</td>\n",
       "      <td>0.009044</td>\n",
       "    </tr>\n",
       "  </tbody>\n",
       "</table>\n",
       "</div>"
      ],
      "text/plain": [
       "           card_id    target\n",
       "0  C_ID_0ab67a22ab  0.251711\n",
       "1  C_ID_130fd0cbdd  0.009044\n",
       "2  C_ID_b709037bc5  0.033288\n",
       "3  C_ID_d27d835a9f  0.009044\n",
       "4  C_ID_2b5e3df5c2  0.009044"
      ]
     },
     "execution_count": 64,
     "metadata": {},
     "output_type": "execute_result"
    }
   ],
   "source": [
    "df_outlier_prob = pd.DataFrame({\"card_id\":df_test[\"card_id\"].values})\n",
    "df_outlier_prob[\"target\"] = pred_outliers\n",
    "df_outlier_prob.head()"
   ]
  },
  {
   "cell_type": "markdown",
   "metadata": {},
   "source": [
    "# Combine"
   ]
  },
  {
   "cell_type": "code",
   "execution_count": 65,
   "metadata": {},
   "outputs": [],
   "source": [
    "#In case missing some predictable outlier, we choose top 25000 with highest outliers likelyhood\n",
    "outlier_id = pd.DataFrame(df_outlier_prob.sort_values(by = 'target', ascending = False).head(25000)['card_id'])"
   ]
  },
  {
   "cell_type": "code",
   "execution_count": 77,
   "metadata": {},
   "outputs": [],
   "source": [
    "best_submission = pd.read_csv('dataset/all/output/lgb.csv')"
   ]
  },
  {
   "cell_type": "code",
   "execution_count": 79,
   "metadata": {},
   "outputs": [
    {
     "data": {
      "text/html": [
       "<div>\n",
       "<style scoped>\n",
       "    .dataframe tbody tr th:only-of-type {\n",
       "        vertical-align: middle;\n",
       "    }\n",
       "\n",
       "    .dataframe tbody tr th {\n",
       "        vertical-align: top;\n",
       "    }\n",
       "\n",
       "    .dataframe thead th {\n",
       "        text-align: right;\n",
       "    }\n",
       "</style>\n",
       "<table border=\"1\" class=\"dataframe\">\n",
       "  <thead>\n",
       "    <tr style=\"text-align: right;\">\n",
       "      <th></th>\n",
       "      <th>card_id</th>\n",
       "      <th>target</th>\n",
       "    </tr>\n",
       "  </thead>\n",
       "  <tbody>\n",
       "    <tr>\n",
       "      <th>0</th>\n",
       "      <td>C_ID_0ab67a22ab</td>\n",
       "      <td>-2.768613</td>\n",
       "    </tr>\n",
       "    <tr>\n",
       "      <th>1</th>\n",
       "      <td>C_ID_130fd0cbdd</td>\n",
       "      <td>-0.274785</td>\n",
       "    </tr>\n",
       "    <tr>\n",
       "      <th>2</th>\n",
       "      <td>C_ID_b709037bc5</td>\n",
       "      <td>-0.728279</td>\n",
       "    </tr>\n",
       "    <tr>\n",
       "      <th>3</th>\n",
       "      <td>C_ID_d27d835a9f</td>\n",
       "      <td>-0.251455</td>\n",
       "    </tr>\n",
       "    <tr>\n",
       "      <th>4</th>\n",
       "      <td>C_ID_2b5e3df5c2</td>\n",
       "      <td>-1.158492</td>\n",
       "    </tr>\n",
       "  </tbody>\n",
       "</table>\n",
       "</div>"
      ],
      "text/plain": [
       "           card_id    target\n",
       "0  C_ID_0ab67a22ab -2.768613\n",
       "1  C_ID_130fd0cbdd -0.274785\n",
       "2  C_ID_b709037bc5 -0.728279\n",
       "3  C_ID_d27d835a9f -0.251455\n",
       "4  C_ID_2b5e3df5c2 -1.158492"
      ]
     },
     "execution_count": 79,
     "metadata": {},
     "output_type": "execute_result"
    }
   ],
   "source": [
    "most_likely_liers = best_submission.merge(outlier_id, how = 'right')\n",
    "best_submission.head()"
   ]
  },
  {
   "cell_type": "code",
   "execution_count": 80,
   "metadata": {},
   "outputs": [],
   "source": [
    "#%%time\n",
    "model_without_outliers.loc[model_without_outliers[\"card_id\"].isin(outlier_id[\"card_id\"].values), \"target\"] = best_submission[best_submission[\"card_id\"].isin(outlier_id[\"card_id\"].values)][\"target\"]"
   ]
  },
  {
   "cell_type": "code",
   "execution_count": 94,
   "metadata": {},
   "outputs": [],
   "source": [
    "model_without_outliers.to_csv(\"dataset/all/output/combining_submission.csv\", index=False)"
   ]
  },
  {
   "cell_type": "code",
   "execution_count": 95,
   "metadata": {},
   "outputs": [
    {
     "data": {
      "text/plain": [
       "(123623, 2)"
      ]
     },
     "execution_count": 95,
     "metadata": {},
     "output_type": "execute_result"
    }
   ],
   "source": [
    "model_without_outliers.shape"
   ]
  },
  {
   "cell_type": "code",
   "execution_count": 88,
   "metadata": {},
   "outputs": [],
   "source": [
    "submission1 = pd.read_csv('dataset/all/output/combining_submission3.csv')"
   ]
  },
  {
   "cell_type": "code",
   "execution_count": 91,
   "metadata": {},
   "outputs": [
    {
     "data": {
      "text/plain": [
       "(123623, 2)"
      ]
     },
     "execution_count": 91,
     "metadata": {},
     "output_type": "execute_result"
    }
   ],
   "source": [
    "submission1.shape"
   ]
  },
  {
   "cell_type": "code",
   "execution_count": null,
   "metadata": {},
   "outputs": [],
   "source": []
  }
 ],
 "metadata": {
  "kernelspec": {
   "display_name": "Python 3",
   "language": "python",
   "name": "python3"
  },
  "language_info": {
   "codemirror_mode": {
    "name": "ipython",
    "version": 3
   },
   "file_extension": ".py",
   "mimetype": "text/x-python",
   "name": "python",
   "nbconvert_exporter": "python",
   "pygments_lexer": "ipython3",
   "version": "3.6.8"
  }
 },
 "nbformat": 4,
 "nbformat_minor": 2
}
